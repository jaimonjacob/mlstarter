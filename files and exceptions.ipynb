{
  "nbformat": 4,
  "nbformat_minor": 0,
  "metadata": {
    "colab": {
      "provenance": [],
      "mount_file_id": "1bvpSpdU3meCFyCsn-oR1dgW5OrhDur_J",
      "authorship_tag": "ABX9TyPqAnp+uC4mZK2u6H7svJJy"
    },
    "kernelspec": {
      "name": "python3",
      "display_name": "Python 3"
    },
    "language_info": {
      "name": "python"
    }
  },
  "cells": [
    {
      "cell_type": "markdown",
      "source": [
        "#Advanced error handling"
      ],
      "metadata": {
        "id": "fN1nkuNdlvqc"
      }
    },
    {
      "cell_type": "code",
      "source": [
        "#Basic error handling with try and except\n",
        "# Excplicitly raise exceptions for errors\n",
        "\n",
        "# In the below case, we are excepting zero division error or value error\n",
        "import logging\n",
        "\n",
        "try:\n",
        "  print(int('Hellow'))\n",
        "except ZeroDivisionError as e:\n",
        "  print('we have an error \\n')\n",
        "  print(e)\n",
        "except ValueError as e:\n",
        "  print('we have an error \\n')\n",
        "  print(e)\n",
        "except Exception as e:\n",
        "  logging.exception(e)\n"
      ],
      "metadata": {
        "colab": {
          "base_uri": "https://localhost:8080/"
        },
        "id": "IHuhUbDZl3lP",
        "outputId": "74dbf5cd-0820-42c8-e2d4-e3666b952189"
      },
      "execution_count": null,
      "outputs": [
        {
          "output_type": "stream",
          "name": "stdout",
          "text": [
            "we have an error \n",
            "\n",
            "invalid literal for int() with base 10: 'Hellow'\n"
          ]
        }
      ]
    },
    {
      "cell_type": "code",
      "source": [
        "# Handling different errors differently\n",
        "\n",
        "values = [1, 2, 3, 4, 0, 'Hellow']\n",
        "\n",
        "import logging\n",
        "\n",
        "for value in values:\n",
        "  try:\n",
        "    print(10/int(value))\n",
        "    raise AttributeError\n",
        "  except (ZeroDivisionError, ValueError) as e:\n",
        "    # Program will continue even if the above errors happen\n",
        "    pass\n",
        "  except AttributeError as e:\n",
        "    print(\"We have an attribute error \\n\")\n",
        "    print(str(e))\n",
        "  except Exception as e:\n",
        "    logging.exception(e)"
      ],
      "metadata": {
        "colab": {
          "base_uri": "https://localhost:8080/"
        },
        "id": "4_G3JjOTBbod",
        "outputId": "6766f110-2c8f-4bd2-bd37-f22a86bcb8ce"
      },
      "execution_count": null,
      "outputs": [
        {
          "output_type": "stream",
          "name": "stdout",
          "text": [
            "10.0\n",
            "We have an attribute error \n",
            "\n",
            "\n",
            "5.0\n",
            "We have an attribute error \n",
            "\n",
            "\n",
            "3.3333333333333335\n",
            "We have an attribute error \n",
            "\n",
            "\n",
            "2.5\n",
            "We have an attribute error \n",
            "\n",
            "\n"
          ]
        }
      ]
    },
    {
      "cell_type": "code",
      "source": [
        "#raising exception\n",
        "# Common approach to notify users that an error has occured\n",
        "\n",
        "values = [1, 2, 3, 4, 0, 'Hellow']\n",
        "\n",
        "import logging\n",
        "\n",
        "for value in values:\n",
        "  try:\n",
        "    print(10/int(value))\n",
        "    raise AttributeError\n",
        "  except (ZeroDivisionError, ValueError) as e:\n",
        "    pass\n",
        "  except AttributeError as e:\n",
        "    print(\"We have an attribute error \\n\")\n",
        "    raise"
      ],
      "metadata": {
        "colab": {
          "base_uri": "https://localhost:8080/",
          "height": 297
        },
        "id": "3G4le-c-EUaa",
        "outputId": "f4df96b8-96e0-432c-aa9b-8db68e153f33"
      },
      "execution_count": null,
      "outputs": [
        {
          "output_type": "stream",
          "name": "stdout",
          "text": [
            "10.0\n",
            "We have an attribute error \n",
            "\n"
          ]
        },
        {
          "output_type": "error",
          "ename": "AttributeError",
          "evalue": "ignored",
          "traceback": [
            "\u001b[0;31m---------------------------------------------------------------------------\u001b[0m",
            "\u001b[0;31mAttributeError\u001b[0m                            Traceback (most recent call last)",
            "\u001b[0;32m<ipython-input-24-10bd1d37330c>\u001b[0m in \u001b[0;36m<cell line: 7>\u001b[0;34m()\u001b[0m\n\u001b[1;32m      8\u001b[0m   \u001b[0;32mtry\u001b[0m\u001b[0;34m:\u001b[0m\u001b[0;34m\u001b[0m\u001b[0;34m\u001b[0m\u001b[0m\n\u001b[1;32m      9\u001b[0m     \u001b[0mprint\u001b[0m\u001b[0;34m(\u001b[0m\u001b[0;36m10\u001b[0m\u001b[0;34m/\u001b[0m\u001b[0mint\u001b[0m\u001b[0;34m(\u001b[0m\u001b[0mvalue\u001b[0m\u001b[0;34m)\u001b[0m\u001b[0;34m)\u001b[0m\u001b[0;34m\u001b[0m\u001b[0;34m\u001b[0m\u001b[0m\n\u001b[0;32m---> 10\u001b[0;31m     \u001b[0;32mraise\u001b[0m \u001b[0mAttributeError\u001b[0m\u001b[0;34m\u001b[0m\u001b[0;34m\u001b[0m\u001b[0m\n\u001b[0m\u001b[1;32m     11\u001b[0m   \u001b[0;32mexcept\u001b[0m \u001b[0;34m(\u001b[0m\u001b[0mZeroDivisionError\u001b[0m\u001b[0;34m,\u001b[0m \u001b[0mValueError\u001b[0m\u001b[0;34m)\u001b[0m \u001b[0;32mas\u001b[0m \u001b[0me\u001b[0m\u001b[0;34m:\u001b[0m\u001b[0;34m\u001b[0m\u001b[0;34m\u001b[0m\u001b[0m\n\u001b[1;32m     12\u001b[0m     \u001b[0;32mpass\u001b[0m\u001b[0;34m\u001b[0m\u001b[0;34m\u001b[0m\u001b[0m\n",
            "\u001b[0;31mAttributeError\u001b[0m: "
          ]
        }
      ]
    },
    {
      "cell_type": "code",
      "source": [
        "values = [1, 2, 3, 4, 0, 'Hellow']\n",
        "\n",
        "import logging\n",
        "\n",
        "for value in values:\n",
        "  try:\n",
        "    print(10/int(value))\n",
        "  except ZeroDivisionError as e:\n",
        "    pass\n",
        "  except ValueError as e:\n",
        "    print(\"We have a value error \\n\")\n",
        "    raise\n",
        "  finally:\n",
        "    print(\"Errors were present but i will be printed\")"
      ],
      "metadata": {
        "colab": {
          "base_uri": "https://localhost:8080/",
          "height": 453
        },
        "id": "jaPpzcOvEwAW",
        "outputId": "9e017eaa-5ed9-4bd0-85c1-d397f4214a2d"
      },
      "execution_count": null,
      "outputs": [
        {
          "output_type": "stream",
          "name": "stdout",
          "text": [
            "10.0\n",
            "Errors were present but i will be printed\n",
            "5.0\n",
            "Errors were present but i will be printed\n",
            "3.3333333333333335\n",
            "Errors were present but i will be printed\n",
            "2.5\n",
            "Errors were present but i will be printed\n",
            "Errors were present but i will be printed\n",
            "We have a value error \n",
            "\n",
            "Errors were present but i will be printed\n"
          ]
        },
        {
          "output_type": "error",
          "ename": "ValueError",
          "evalue": "ignored",
          "traceback": [
            "\u001b[0;31m---------------------------------------------------------------------------\u001b[0m",
            "\u001b[0;31mValueError\u001b[0m                                Traceback (most recent call last)",
            "\u001b[0;32m<ipython-input-23-526b404b737d>\u001b[0m in \u001b[0;36m<cell line: 5>\u001b[0;34m()\u001b[0m\n\u001b[1;32m      5\u001b[0m \u001b[0;32mfor\u001b[0m \u001b[0mvalue\u001b[0m \u001b[0;32min\u001b[0m \u001b[0mvalues\u001b[0m\u001b[0;34m:\u001b[0m\u001b[0;34m\u001b[0m\u001b[0;34m\u001b[0m\u001b[0m\n\u001b[1;32m      6\u001b[0m   \u001b[0;32mtry\u001b[0m\u001b[0;34m:\u001b[0m\u001b[0;34m\u001b[0m\u001b[0;34m\u001b[0m\u001b[0m\n\u001b[0;32m----> 7\u001b[0;31m     \u001b[0mprint\u001b[0m\u001b[0;34m(\u001b[0m\u001b[0;36m10\u001b[0m\u001b[0;34m/\u001b[0m\u001b[0mint\u001b[0m\u001b[0;34m(\u001b[0m\u001b[0mvalue\u001b[0m\u001b[0;34m)\u001b[0m\u001b[0;34m)\u001b[0m\u001b[0;34m\u001b[0m\u001b[0;34m\u001b[0m\u001b[0m\n\u001b[0m\u001b[1;32m      8\u001b[0m   \u001b[0;32mexcept\u001b[0m \u001b[0mZeroDivisionError\u001b[0m \u001b[0;32mas\u001b[0m \u001b[0me\u001b[0m\u001b[0;34m:\u001b[0m\u001b[0;34m\u001b[0m\u001b[0;34m\u001b[0m\u001b[0m\n\u001b[1;32m      9\u001b[0m     \u001b[0;32mpass\u001b[0m\u001b[0;34m\u001b[0m\u001b[0;34m\u001b[0m\u001b[0m\n",
            "\u001b[0;31mValueError\u001b[0m: invalid literal for int() with base 10: 'Hellow'"
          ]
        }
      ]
    },
    {
      "cell_type": "code",
      "source": [
        "# Else to handle the situation of no exceptoin\n",
        "values = [1, 2, 3, 4, 0, 'Hellow']\n",
        "import logging\n",
        "\n",
        "for value in values:\n",
        "  try:\n",
        "    print(10/int(value))\n",
        "  except ZeroDivisionError as e:\n",
        "    pass\n",
        "  except ValueError as e:\n",
        "    print(\"We have a value error \\n\")\n",
        "    raise\n",
        "  else:\n",
        "    print(\"There were no exceptions\")"
      ],
      "metadata": {
        "id": "nKMqs2beFe4f",
        "outputId": "5a0a2381-1b31-43d6-f107-c31bb3cea8fd",
        "colab": {
          "base_uri": "https://localhost:8080/",
          "height": 418
        }
      },
      "execution_count": null,
      "outputs": [
        {
          "output_type": "stream",
          "name": "stdout",
          "text": [
            "10.0\n",
            "There were no exceptions\n",
            "5.0\n",
            "There were no exceptions\n",
            "3.3333333333333335\n",
            "There were no exceptions\n",
            "2.5\n",
            "There were no exceptions\n",
            "We have a value error \n",
            "\n"
          ]
        },
        {
          "output_type": "error",
          "ename": "ValueError",
          "evalue": "ignored",
          "traceback": [
            "\u001b[0;31m---------------------------------------------------------------------------\u001b[0m",
            "\u001b[0;31mValueError\u001b[0m                                Traceback (most recent call last)",
            "\u001b[0;32m<ipython-input-26-b00d0b40b055>\u001b[0m in \u001b[0;36m<cell line: 5>\u001b[0;34m()\u001b[0m\n\u001b[1;32m      5\u001b[0m \u001b[0;32mfor\u001b[0m \u001b[0mvalue\u001b[0m \u001b[0;32min\u001b[0m \u001b[0mvalues\u001b[0m\u001b[0;34m:\u001b[0m\u001b[0;34m\u001b[0m\u001b[0;34m\u001b[0m\u001b[0m\n\u001b[1;32m      6\u001b[0m   \u001b[0;32mtry\u001b[0m\u001b[0;34m:\u001b[0m\u001b[0;34m\u001b[0m\u001b[0;34m\u001b[0m\u001b[0m\n\u001b[0;32m----> 7\u001b[0;31m     \u001b[0mprint\u001b[0m\u001b[0;34m(\u001b[0m\u001b[0;36m10\u001b[0m\u001b[0;34m/\u001b[0m\u001b[0mint\u001b[0m\u001b[0;34m(\u001b[0m\u001b[0mvalue\u001b[0m\u001b[0;34m)\u001b[0m\u001b[0;34m)\u001b[0m\u001b[0;34m\u001b[0m\u001b[0;34m\u001b[0m\u001b[0m\n\u001b[0m\u001b[1;32m      8\u001b[0m   \u001b[0;32mexcept\u001b[0m \u001b[0mZeroDivisionError\u001b[0m \u001b[0;32mas\u001b[0m \u001b[0me\u001b[0m\u001b[0;34m:\u001b[0m\u001b[0;34m\u001b[0m\u001b[0;34m\u001b[0m\u001b[0m\n\u001b[1;32m      9\u001b[0m     \u001b[0;32mpass\u001b[0m\u001b[0;34m\u001b[0m\u001b[0;34m\u001b[0m\u001b[0m\n",
            "\u001b[0;31mValueError\u001b[0m: invalid literal for int() with base 10: 'Hellow'"
          ]
        }
      ]
    },
    {
      "cell_type": "markdown",
      "source": [
        "## Old content"
      ],
      "metadata": {
        "id": "Gj6GHuLBlz_v"
      }
    },
    {
      "cell_type": "markdown",
      "source": [
        "10.3"
      ],
      "metadata": {
        "id": "UV1ETJGxl30z"
      }
    },
    {
      "cell_type": "code",
      "source": [
        "def count_words(name_of_file):\n",
        "    try:\n",
        "        with open(file_name, encoding='utf-8') as file_object:\n",
        "            content = file_object.read()\n",
        "    except FileNotFoundError:\n",
        "        print(\"The filed looked for is not found in the server\")\n",
        "    else:\n",
        "        words_array = content.split()\n",
        "        print(f'The book has {len(words_array)} number of words')\n",
        "\n",
        "file_name = '/content/home.txt'\n",
        "\n",
        "count_words(file_name)\n",
        "\n"
      ],
      "metadata": {
        "id": "G5pHYSFov73I",
        "colab": {
          "base_uri": "https://localhost:8080/"
        },
        "outputId": "8cc8eff9-f0cb-4898-9c27-6387899ce0fd"
      },
      "execution_count": null,
      "outputs": [
        {
          "output_type": "stream",
          "name": "stdout",
          "text": [
            "The book has 130662 number of words\n"
          ]
        }
      ]
    },
    {
      "cell_type": "code",
      "source": [
        "file_item_array = ['/content/drive/MyDrive/Learn/dor.txt', '/content/drive/MyDrive/Learn/ferd.txt', '/content/drive/MyDrive/Learn/romeo.txt']\n",
        "\n",
        "def read_file_contents(file_name):\n",
        "  try:\n",
        "    with open(file_name, encoding='utf-8') as file_object:\n",
        "          content = file_object.read()\n",
        "  except FileNotFoundError:\n",
        "    print(f'Unfortunately the {file_name} cannot be found')\n",
        "  else:\n",
        "    return len(content.split())\n",
        "\n",
        "def combine_to_single(file_array):\n",
        "  new_arr = [*map(read_file_contents,file_item_array )]\n",
        "  col_doc = '/content/drive/MyDrive/Learn/col.txt'\n",
        "  with open(col_doc, 'a') as file_object:\n",
        "    for item in new_arr:\n",
        "      file_object.write(item)\n",
        "  with open(col_doc, encoding='utf-8') as file_object:\n",
        "    print(file_object.read())\n",
        "\n",
        "for value in file_item_array:\n",
        "  print(read_file_contents(value))\n"
      ],
      "metadata": {
        "id": "cUDVWi_l9eKx",
        "colab": {
          "base_uri": "https://localhost:8080/"
        },
        "outputId": "26cdaef9-67b0-49c4-c207-eef736f3cbd5"
      },
      "execution_count": null,
      "outputs": [
        {
          "output_type": "stream",
          "name": "stdout",
          "text": [
            "82027\n",
            "164706\n",
            "29003\n"
          ]
        }
      ]
    },
    {
      "cell_type": "markdown",
      "source": [],
      "metadata": {
        "id": "mJRJp9zGKcnc"
      }
    },
    {
      "cell_type": "code",
      "source": [
        "# 10.7\n",
        "print('Enter two numbers below \\n')\n",
        "print('Enter q to exit \\n')\n",
        "\n",
        "def add_num():\n",
        "  while True:\n",
        "    first = input('Enter the first number \\n')\n",
        "    second = input('Enter the second number \\n')\n",
        "    if first == 'q' or second == 'q':\n",
        "      break;\n",
        "    try:\n",
        "      print(f'{int(first) + int(second)}')\n",
        "    except ValueError:\n",
        "      print('One of the values is not an integar!')\n",
        "\n",
        "add_num()"
      ],
      "metadata": {
        "id": "TWXYjlhnpq9J"
      },
      "execution_count": null,
      "outputs": []
    },
    {
      "cell_type": "code",
      "source": [
        "# 10.8\n",
        "file_cat = \"/content/drive/MyDrive/Learn/cat.txt\"\n",
        "file_dog = \"/content/drive/MyDrive/Learn/dog.txt\"\n",
        "\n",
        "file_array = [file_cat, file_dog]\n",
        "\n",
        "def read_file_contents(file_arr):\n",
        " for file_item in file_arr:\n",
        "  try:\n",
        "    with open(file_item, encoding='utf-8') as file_object:\n",
        "      content = file_object.read()\n",
        "  except FileNotFoundError:\n",
        "    print(f'Unfortunately the {file_item} cannot be found')\n",
        "    # failing silently if you add pass below\n",
        "    # pass\n",
        "  else:\n",
        "    print(f'Writing the content of the available file {file_item} \\n {content}')\n",
        "\n",
        "read_file_contents(file_array)"
      ],
      "metadata": {
        "id": "n4qehfpBIuMX"
      },
      "execution_count": null,
      "outputs": []
    },
    {
      "cell_type": "code",
      "source": [
        "# 10.10\n",
        "\n",
        "book = \"/content/drive/MyDrive/Learn/romeo.txt\"\n",
        "\n",
        "def find_occurances(item):\n",
        "  with open(book, encoding='utf-8') as file_object:\n",
        "    content = file_object.read()\n",
        "    print(content.lower().count(item))\n",
        "\n",
        "find_occurances('love ')"
      ],
      "metadata": {
        "id": "sQWCyP2pPcsz",
        "colab": {
          "base_uri": "https://localhost:8080/"
        },
        "outputId": "c7b037e8-0020-4a73-cf97-9ac1e01740be"
      },
      "execution_count": null,
      "outputs": [
        {
          "output_type": "stream",
          "name": "stdout",
          "text": [
            "68\n"
          ]
        }
      ]
    },
    {
      "cell_type": "code",
      "source": [
        "import json\n",
        "\n",
        "\n",
        "def enter_json():\n",
        "  '''Get user name if available'''\n",
        "  file_nameame = \"/content/drive/MyDrive/Learn/test.json\"\n",
        "  try:\n",
        "    with open(file_name) as f:\n",
        "      user_name = json.load(f)\n",
        "  except FileNotFoundError:\n",
        "    user_name = input('Please enter your favourite book: \\n')\n",
        "    with open(file_name, 'w') as f:\n",
        "      json.dump(user_name, f)\n",
        "      print (f'Welcome {user_name}')\n",
        "  else:\n",
        "    print(f'Welcome {user_name}')\n",
        "\n",
        "enter_json()"
      ],
      "metadata": {
        "colab": {
          "base_uri": "https://localhost:8080/",
          "height": 132
        },
        "id": "NBAs-EPbeG9p",
        "outputId": "9f72d78b-4bf2-4b8e-c5af-1cc25d8c6145"
      },
      "execution_count": null,
      "outputs": [
        {
          "output_type": "error",
          "ename": "SyntaxError",
          "evalue": "ignored",
          "traceback": [
            "\u001b[0;36m  File \u001b[0;32m\"<ipython-input-14-2f73f3d25fff>\"\u001b[0;36m, line \u001b[0;32m10\u001b[0m\n\u001b[0;31m    '''''Throw and error and ask for username if file isn not present'''\u001b[0m\n\u001b[0m    ^\u001b[0m\n\u001b[0;31mSyntaxError\u001b[0m\u001b[0;31m:\u001b[0m expected 'except' or 'finally' block\n"
          ]
        }
      ]
    }
  ]
}
{
  "cells": [
    {
      "cell_type": "markdown",
      "metadata": {
        "id": "lVwk1zmxiyD9"
      },
      "source": [
        "# Decorator functions: Used to enhance the funcitonality of functions without changing the code\n"
      ]
    },
    {
      "cell_type": "code",
      "execution_count": null,
      "metadata": {
        "id": "6hVWeEZciyD_",
        "outputId": "ade2c750-9337-467b-da46-a4b9d758c1dc",
        "colab": {
          "base_uri": "https://localhost:8080/"
        }
      },
      "outputs": [
        {
          "output_type": "stream",
          "name": "stdout",
          "text": [
            "display is going to be run by decorator function\n",
            "displaying something now\n"
          ]
        }
      ],
      "source": [
        "#Decorator functions\n",
        "def decorator_function(original_function):\n",
        "  def wrapper_function(*args, **kwargs):\n",
        "    print(f'{original_function.__name__} is going to be run by decorator function')\n",
        "    return original_function(*args, **kwargs)\n",
        "\n",
        "  return wrapper_function\n",
        "\n",
        "\n",
        "@decorator_function\n",
        "def display():\n",
        "  print('displaying something now')\n",
        "\n",
        "display()\n",
        "\n"
      ]
    },
    {
      "cell_type": "code",
      "source": [
        "#Decorator class\n",
        "class decorator_class():\n",
        "  def __init__(self, original_function):\n",
        "    self.original_function = original_function\n",
        "\n",
        "  def __call__(self, *args, **kwargs):\n",
        "    print(f'{self.original_function.__name__} is going to be run now by call method')\n",
        "    return self.original_function(*args, **kwargs)\n",
        "\n",
        "\n",
        "@decorator_class\n",
        "def display_info(name, age):\n",
        "  print(f'displaying the {name} and {age} now')\n",
        "\n",
        "display_info('joe', 12)\n"
      ],
      "metadata": {
        "id": "YY1EAfcii85x",
        "outputId": "a3281d4c-9c75-4659-aef0-0e00d5e4fb09",
        "colab": {
          "base_uri": "https://localhost:8080/"
        }
      },
      "execution_count": null,
      "outputs": [
        {
          "output_type": "stream",
          "name": "stdout",
          "text": [
            "display_info is going to be run now by call method\n",
            "displaying the joe and 12 now\n"
          ]
        }
      ]
    },
    {
      "cell_type": "markdown",
      "source": [
        "### Practical examples for deocrators"
      ],
      "metadata": {
        "id": "9RwwiaMpi8wY"
      }
    },
    {
      "cell_type": "code",
      "source": [
        "import logging\n",
        "\n",
        "def logger_function(original_function):\n",
        "  logging.basicConfig(filename=f'{original_function.__name__}.log', level=logging.INFO)\n",
        "  def wrapper_function(*args, **kwargs):\n",
        "    logging.info(f'Ran with args: {args} and kwargs: {kwargs}')\n",
        "    return original_function(*args, **kwargs)\n",
        "\n",
        "  return wrapper_function\n",
        "\n",
        "\n",
        "@logger_function\n",
        "def display_info(name, age):\n",
        "  print(f'displaying the {name} and {age} now')\n",
        "\n",
        "\n",
        "display_info('John', 12)"
      ],
      "metadata": {
        "id": "GbuOGQOBk8l4",
        "outputId": "ea9f8419-4106-4a66-d92d-17e019125e45",
        "colab": {
          "base_uri": "https://localhost:8080/"
        }
      },
      "execution_count": null,
      "outputs": [
        {
          "output_type": "stream",
          "name": "stdout",
          "text": [
            "displaying the John and 12 now\n"
          ]
        }
      ]
    },
    {
      "cell_type": "code",
      "source": [
        "# Common use of decoratores - The duration that the function ran\n",
        "\n",
        "import time\n",
        "\n",
        "def timer_function(original_function):\n",
        "  def wrapper_function(*args, **kwargs):\n",
        "    t1 = time.time()\n",
        "    result = original_function(*args, **kwargs)\n",
        "    t2 = round(time.time() - t1, 2)\n",
        "    print(f'{original_function.__name__} with args: {args} and kwargs: {kwargs} ran for {t2}   secs')\n",
        "    return result\n",
        "\n",
        "  return wrapper_function\n",
        "\n",
        "\n",
        "@timer_function\n",
        "def display_info(name, age):\n",
        "  time.sleep(5)\n",
        "  print(f'displaying the {name} and {age} now')\n",
        "\n",
        "\n",
        "display_info('Eric', 13)"
      ],
      "metadata": {
        "colab": {
          "base_uri": "https://localhost:8080/"
        },
        "id": "mGigfa77pcIm",
        "outputId": "446426b3-6081-4cbc-a8f8-f52da5f090e4"
      },
      "execution_count": 1,
      "outputs": [
        {
          "output_type": "stream",
          "name": "stdout",
          "text": [
            "displaying the Eric and 13 now\n",
            "display_info with args: ('Eric', 13) and kwargs: {} ran for 5.0   secs\n"
          ]
        }
      ]
    },
    {
      "cell_type": "code",
      "source": [
        "#Chaining decoratores - need to use the wraps module\n",
        "# Common use of decoratores -  Chaining decorators\n",
        "from functools import wraps\n",
        "import time\n",
        "import logging\n",
        "\n",
        "\n",
        "def logger_function(original_function):\n",
        "  logging.basicConfig(filename=f'{original_function.__name__}.log',\n",
        "                      level=logging.INFO)\n",
        "\n",
        "  @wraps(original_function)\n",
        "  def wrapper_function(*args, **kwargs):\n",
        "    logging.info(f'Ran with args: {args} and kwargs: {kwargs}')\n",
        "    return original_function(*args, **kwargs)\n",
        "\n",
        "  return wrapper_function\n",
        "\n",
        "\n",
        "def timer_function(original_function):\n",
        "\n",
        "  @wraps(original_function)\n",
        "  def wrapper_function(*args, **kwargs):\n",
        "    t1 = time.time()\n",
        "    result = original_function(*args, **kwargs)\n",
        "    t2 = round(time.time() - t1, 2)\n",
        "    print(\n",
        "        f'{original_function.__name__} with args: {args} and kwargs: {kwargs} ran for {t2}   secs'\n",
        "    )\n",
        "    return result\n",
        "\n",
        "  return wrapper_function\n",
        "\n",
        "\n",
        "@logger_function\n",
        "@timer_function\n",
        "def display_info(name, age):\n",
        "  time.sleep(1)\n",
        "  print(f'displaying the {name} and {age} now')\n",
        "\n",
        "\n",
        "display_info('Name', 16)\n"
      ],
      "metadata": {
        "id": "4XobPV_Vsw62",
        "outputId": "d7c5d71c-ddf5-4a8f-f99e-07303deca969",
        "colab": {
          "base_uri": "https://localhost:8080/"
        }
      },
      "execution_count": 2,
      "outputs": [
        {
          "output_type": "stream",
          "name": "stdout",
          "text": [
            "displaying the Name and 16 now\n",
            "display_info with args: ('Name', 16) and kwargs: {} ran for 1.0   secs\n"
          ]
        }
      ]
    }
  ],
  "metadata": {
    "language_info": {
      "name": "python"
    },
    "orig_nbformat": 4,
    "colab": {
      "provenance": []
    },
    "kernelspec": {
      "name": "python3",
      "display_name": "Python 3"
    }
  },
  "nbformat": 4,
  "nbformat_minor": 0
}
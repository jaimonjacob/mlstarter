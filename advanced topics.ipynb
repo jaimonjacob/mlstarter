{
 "cells": [
  {
   "cell_type": "markdown",
   "metadata": {},
   "source": [
    "### Decorator functions: Used to enhance the funcitonality of functions without changing the code\n"
   ]
  },
  {
   "cell_type": "code",
   "execution_count": null,
   "metadata": {},
   "outputs": [],
   "source": [
    "\n",
    "#Decorator functions\n",
    "def decorator_function(original_function):\n",
    "  def wrapper_function(*args, **kwargs):\n",
    "    print(f'{original_function.__name__} is going to be run by decorator function')\n",
    "    return original_function(*args, **kwargs)\n",
    "\n",
    "  return wrapper_function\n",
    "\n",
    "\n",
    "@decorator_function\n",
    "def display():\n",
    "  print('displaying something now')\n",
    "\n",
    "display()\n",
    "\n",
    "# Will output\n",
    "# display is going to be run by decorator function\n",
    "# displaying something now\n",
    "\n",
    "\n",
    "\n",
    "#Decorator class\n",
    "class decorator_class():\n",
    "  def __init__(self, original_function):\n",
    "    self.original_function = original_function\n",
    "\n",
    "  def __call__(self, *args, **kwargs):\n",
    "    print(f'{self.original_function.__name__} is going to be run now by call method')\n",
    "    return self.original_function(*args, **kwargs)\n",
    "\n",
    "\n",
    "@decorator_class\n",
    "def display_info(name, age):\n",
    "  print(f'displaying the {name} and {age} now')\n",
    "\n",
    "display_info('joe', 12)\n",
    "\n",
    "\n",
    "# Will output\n",
    "# display_info is going to be run now by call method\n",
    "# displaying the joe and 12 now\n"
   ]
  }
 ],
 "metadata": {
  "language_info": {
   "name": "python"
  },
  "orig_nbformat": 4
 },
 "nbformat": 4,
 "nbformat_minor": 2
}

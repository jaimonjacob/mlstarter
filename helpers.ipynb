{
  "nbformat": 4,
  "nbformat_minor": 0,
  "metadata": {
    "colab": {
      "provenance": [],
      "authorship_tag": "ABX9TyOB4+wCZ5KFTaiZufEVjtoJ",
      "include_colab_link": true
    },
    "kernelspec": {
      "name": "python3",
      "display_name": "Python 3"
    },
    "language_info": {
      "name": "python"
    }
  },
  "cells": [
    {
      "cell_type": "markdown",
      "metadata": {
        "id": "view-in-github",
        "colab_type": "text"
      },
      "source": [
        "<a href=\"https://colab.research.google.com/github/jaimonjacob/mlstarter/blob/main/helpers.ipynb\" target=\"_parent\"><img src=\"https://colab.research.google.com/assets/colab-badge.svg\" alt=\"Open In Colab\"/></a>"
      ]
    },
    {
      "cell_type": "code",
      "execution_count": null,
      "metadata": {
        "id": "FLKD0_WtANGk"
      },
      "outputs": [],
      "source": [
        "# Use help to understand more about an object\n",
        "newobject = {1: 'Geeks', 2: 'For', 3: 'Geeks'}\n",
        "print(help(newobject))\n"
      ]
    },
    {
      "cell_type": "code",
      "source": [
        "# Use __dict__ to print the parameters in an object\n",
        "\n",
        "class Employee:\n",
        "  # Self = the instance\n",
        "  def __init__(self, first, second, pay):\n",
        "    self.first = first\n",
        "    self.second = second\n",
        "    self.pay = pay\n",
        "    self.email = first + '.' +  second + 'second@company.com'\n",
        "  # All regular methods take self (instance) as the first parameter\n",
        "  def display_name(self):\n",
        "    return f'{self.first} {self.second}'\n",
        "\n",
        "  emp1 = Employee('John', 'Doe', 20000)\n",
        "\n",
        "  print(emp1.__dict__)"
      ],
      "metadata": {
        "id": "tLybNkQwBixE"
      },
      "execution_count": null,
      "outputs": []
    },
    {
      "cell_type": "code",
      "source": [
        "# Check wehther the object is an instance of a class\n",
        "isinstance(inst, class)\n",
        "# Check wehther the object is sublcass of a class\n",
        "issubclass(sublcass, class)"
      ],
      "metadata": {
        "id": "Gf2CGHO-tILj"
      },
      "execution_count": null,
      "outputs": []
    }
  ]
}
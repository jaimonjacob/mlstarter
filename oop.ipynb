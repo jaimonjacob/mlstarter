{
  "nbformat": 4,
  "nbformat_minor": 0,
  "metadata": {
    "colab": {
      "provenance": [],
      "authorship_tag": "ABX9TyOzSKWMrWzmZyRZcijdFO1S",
      "include_colab_link": true
    },
    "kernelspec": {
      "name": "python3",
      "display_name": "Python 3"
    },
    "language_info": {
      "name": "python"
    }
  },
  "cells": [
    {
      "cell_type": "markdown",
      "metadata": {
        "id": "view-in-github",
        "colab_type": "text"
      },
      "source": [
        "<a href=\"https://colab.research.google.com/github/jaimonjacob/mlstarter/blob/main/oop.ipynb\" target=\"_parent\"><img src=\"https://colab.research.google.com/assets/colab-badge.svg\" alt=\"Open In Colab\"/></a>"
      ]
    },
    {
      "cell_type": "markdown",
      "source": [
        "##Classes"
      ],
      "metadata": {
        "id": "T1if6wH3QVRD"
      }
    },
    {
      "cell_type": "code",
      "execution_count": null,
      "metadata": {
        "colab": {
          "base_uri": "https://localhost:8080/",
          "height": 52
        },
        "id": "p_e-bHAzP3To",
        "outputId": "71497b19-af08-4f6f-b201-ff5f6417155f"
      },
      "outputs": [
        {
          "output_type": "stream",
          "name": "stdout",
          "text": [
            "John Doe\n"
          ]
        },
        {
          "output_type": "execute_result",
          "data": {
            "text/plain": [
              "'Jane Doe'"
            ],
            "application/vnd.google.colaboratory.intrinsic+json": {
              "type": "string"
            }
          },
          "metadata": {},
          "execution_count": 5
        }
      ],
      "source": [
        "class Employee:\n",
        "  # Self = the instance\n",
        "  def __init__(self, first, second, pay):\n",
        "    self.first = first\n",
        "    self.second = second\n",
        "    self.pay = pay\n",
        "    self.email = first + '.' +  second + 'second@company.com'\n",
        "  # All regular methods take self (instance) as the first parameter\n",
        "  def display_name(self):\n",
        "    return f'{self.first} {self.second}'\n",
        "\n",
        "emp1 = Employee('John', 'Doe', 20000)\n",
        "emp2 = Employee('Jane', 'Doe', 10000)\n",
        "\n",
        "# Here yu dont have to pass self as a paramter as it's automtically done\n",
        "print(emp1.display_name())\n",
        "# The above is simliar as\n",
        "Employee.display_name(emp2)\n",
        "\n"
      ]
    },
    {
      "cell_type": "markdown",
      "source": [
        "###Class variables - Variables that are common across all instances\n"
      ],
      "metadata": {
        "id": "ffcJ4LPvQSsB"
      }
    },
    {
      "cell_type": "code",
      "source": [
        "class Employee:\n",
        "  # the below variable is consistent across all instances, so we declare as a class variable\n",
        "\n",
        "  num_of_emps = 0\n",
        "  raise_amount = 2\n",
        "\n",
        "  def __init__(self, first, second, pay):\n",
        "    self.first = first\n",
        "    self.second = second\n",
        "    self.pay = pay\n",
        "    self.email = first + '.' +  second + 'second@company.com'\n",
        "    # Sometimes you need to keep the variable within the class, for example in this case, wehre emplyee nums are increased when new employees are created\n",
        "    Employee.num_of_emps += 1\n",
        "\n",
        "  def display_name(self):\n",
        "    return f'{self.first} {self.second}'\n",
        "\n",
        "  def raise_pay(self):\n",
        "    try:\n",
        "      self.pay = self.pay * self.raise_amount\n",
        "      # The program checks for the attribute in the instance first. If not present, then checks it in the class as such the below code also will work\n",
        "      # self.pay = self.pay * Employee.raise_amount\n",
        "      print(self.pay)\n",
        "    except NameError as e:\n",
        "      print(f'there is a name error - {e}')\n",
        "      # print(f'The pay is increased to {self.pay}')\n",
        "\n",
        "emp1 = Employee('John', 'Doe', 20000)\n",
        "emp2 = Employee('Jane', 'Doe', 10000)\n",
        "emp1.raise_pay()\n",
        "print(emp1.__dict__)\n",
        "print(Employee.__dict__)"
      ],
      "metadata": {
        "colab": {
          "base_uri": "https://localhost:8080/"
        },
        "id": "DD3abS5QPkJH",
        "outputId": "951e6028-7236-450e-dbc0-3ca0086fb2d8"
      },
      "execution_count": null,
      "outputs": [
        {
          "output_type": "stream",
          "name": "stdout",
          "text": [
            "40000\n",
            "{'first': 'John', 'second': 'Doe', 'pay': 40000, 'email': 'John.Doesecond@company.com'}\n",
            "{'__module__': '__main__', 'num_of_emps': 2, 'raise_amount': 2, '__init__': <function Employee.__init__ at 0x7da928caa3b0>, 'display_name': <function Employee.display_name at 0x7da928caa320>, 'raise_pay': <function Employee.raise_pay at 0x7da928ca9e10>, '__dict__': <attribute '__dict__' of 'Employee' objects>, '__weakref__': <attribute '__weakref__' of 'Employee' objects>, '__doc__': None}\n"
          ]
        }
      ]
    },
    {
      "cell_type": "markdown",
      "source": [
        "### class methods"
      ],
      "metadata": {
        "id": "hBj0KLhyanrt"
      }
    },
    {
      "cell_type": "code",
      "source": [
        "#Class methods uses class as intput to the method than instance\n",
        "\n",
        "class Employee:\n",
        "  num_of_emps = 0\n",
        "  raise_amount = 2\n",
        "\n",
        "  def __init__(self, first, second, pay):\n",
        "    self.first = first\n",
        "    self.second = second\n",
        "    self.pay = pay\n",
        "    self.email = first + '.' +  second + '@company.com'\n",
        "    Employee.num_of_emps += 1\n",
        "\n",
        "  def display_name(self):\n",
        "    return f'{self.first} {self.second}'\n",
        "\n",
        "  def raise_pay(self):\n",
        "    self.pay = self.pay * self.raise_amount\n",
        "    print(self.pay)\n",
        "\n",
        "  # Class method to change a class variable  so that all instances can use it\n",
        "  @classmethod\n",
        "  # Note that you are using cls instead of self to represnt the class\n",
        "  def set_raise_amount(cls, amount):\n",
        "    cls.raise_amount = amount\n",
        "\n",
        "  # Class method as a constructor\n",
        "  @classmethod\n",
        "  def from_string(cls, emp_string):\n",
        "    first, second, pay = emp_string.split('-')\n",
        "    return cls(first, second, pay)\n",
        "\n",
        "\n",
        "emp1 = Employee('John', 'Doe', 20000)\n",
        "emp1.raise_pay()\n",
        "Employee.set_raise_amount(2)\n",
        "emp1.raise_pay()\n",
        "\n",
        "\n",
        "emp2 = Employee.from_string('Jane-Doe-8000')\n",
        "print(emp2.__dict__)"
      ],
      "metadata": {
        "colab": {
          "base_uri": "https://localhost:8080/"
        },
        "id": "JOLHa7hRuCbT",
        "outputId": "6aa7a916-ee4b-48ef-ca48-76489079a183"
      },
      "execution_count": null,
      "outputs": [
        {
          "output_type": "stream",
          "name": "stdout",
          "text": [
            "40000\n",
            "80000\n",
            "{'first': 'Jane', 'second': 'Doe', 'pay': '8000', 'email': 'Jane.Doe@company.com'}\n"
          ]
        }
      ]
    },
    {
      "cell_type": "code",
      "source": [
        "#Static methods act as normal functions, they dont automatically take in either class or instance as variables\n",
        "\n",
        "class Employee:\n",
        "  num_of_emps = 0\n",
        "  raise_amount = 2\n",
        "\n",
        "  def __init__(self, first, second, pay):\n",
        "    self.first = first\n",
        "    self.second = second\n",
        "    self.pay = pay\n",
        "    self.email = first + '.' +  second + '@company.com'\n",
        "    Employee.num_of_emps += 1\n",
        "\n",
        "  def display_name(self):\n",
        "    return f'{self.first} {self.second}'\n",
        "\n",
        "  def raise_pay(self):\n",
        "    self.pay = self.pay * self.raise_amount\n",
        "    print(self.pay)\n",
        "\n",
        "  @classmethod\n",
        "  def set_raise_amount(cls, amount):\n",
        "    cls.raise_amount = amount\n",
        "\n",
        "  @classmethod\n",
        "  def from_string(cls, emp_string):\n",
        "    first, second, pay = emp_string.split('-')\n",
        "    return cls(first, second, pay)\n",
        "  # The function is going to be a staic method if you dont access the class or instance anywhere in the function\n",
        "\n",
        "  # Static method\n",
        "  @staticmethod\n",
        "  def is_workday(day):\n",
        "    if day.weekday() == 5 or day.weekday() == 6:\n",
        "      return False\n",
        "    return True\n",
        "\n",
        "emp1 = Employee('John', 'Doe', 20000)\n",
        "\n",
        "import datetime\n",
        "\n",
        "newdate = datetime.date(2016, 6, 4)\n",
        "print(newdate)\n",
        "Employee.is_workday(newdate)"
      ],
      "metadata": {
        "id": "sCDvj9LEXHW1",
        "colab": {
          "base_uri": "https://localhost:8080/"
        },
        "outputId": "5e884268-2b15-437a-cc8a-551a94b76bd3"
      },
      "execution_count": null,
      "outputs": [
        {
          "output_type": "stream",
          "name": "stdout",
          "text": [
            "2016-06-04\n"
          ]
        },
        {
          "output_type": "execute_result",
          "data": {
            "text/plain": [
              "False"
            ]
          },
          "metadata": {},
          "execution_count": 6
        }
      ]
    },
    {
      "cell_type": "markdown",
      "source": [
        "### Inheritance - subclasses"
      ],
      "metadata": {
        "id": "bi9bQCNVZgtE"
      }
    },
    {
      "cell_type": "code",
      "source": [
        "#Adding additional properties not presnt in the main class\n",
        "class Employee:\n",
        "  num_of_emps = 0\n",
        "  raise_amount = 2\n",
        "\n",
        "  def __init__(self, first, second, pay):\n",
        "    self.first = first\n",
        "    self.second = second\n",
        "    self.pay = pay\n",
        "    self.email = first + '.' +  second + 'second@company.com'\n",
        "    Employee.num_of_emps += 1\n",
        "\n",
        "  def display_fullname(self):\n",
        "    return f'{self.first} {self.second}'\n",
        "\n",
        "  def raise_pay(self):\n",
        "    self.pay = self.pay * self.raise_amount\n",
        "    print(self.pay)\n",
        "\n",
        "\n",
        "class Developer(Employee):\n",
        "  raise_amount = 3\n",
        "\n",
        "  def __init__(self, first, second, pay, prog_language):\n",
        "    # The below function takes care of using the properites of the paretn class in teh sub class\n",
        "    super().__init__(first, second, pay)\n",
        "    # Then set the additional paramter as  usual in a calss\n",
        "    self.prog_language = prog_language\n",
        "\n",
        "\n",
        "class Manager(Employee):\n",
        "  raise_amount = 3\n",
        "\n",
        "  def __init__(self, first, second, pay, employees = None):\n",
        "    super().__init__(first, second, pay)\n",
        "    if employees is None:\n",
        "      self.employees = []\n",
        "    else:\n",
        "      self.employees = employees\n",
        "\n",
        "  def print_employees(self):\n",
        "    for employee in self.employees:\n",
        "      print(employee.display_fullname())\n",
        "\n",
        "  def add_employee(self, employee):\n",
        "    if employee  not in self.employees:\n",
        "      self.employees.append(employee)\n",
        "    else:\n",
        "      print('Employee already in the list')\n",
        "\n",
        "  def remove_employee(self, employee):\n",
        "    if employee in self.employees:\n",
        "      self.employees.remove(employee)\n",
        "    else:\n",
        "      print('Employee not in the list')\n",
        "\n",
        "\n",
        "dev1 = Developer('Jane', 'Doe', 10000, 'java')\n",
        "dev2 = Developer('John', 'Doe', 80000, 'c+')\n",
        "\n",
        "manager1 = Manager('Henry', 'Doe', 20000, [dev1])\n",
        "\n",
        "manager1.print_employees()\n",
        "manager1.add_employee(dev2)\n",
        "\n"
      ],
      "metadata": {
        "colab": {
          "base_uri": "https://localhost:8080/"
        },
        "id": "CCR4QMiLaNuZ",
        "outputId": "6c754e6a-cfdd-4239-db8a-ea9995922b0a"
      },
      "execution_count": null,
      "outputs": [
        {
          "output_type": "stream",
          "name": "stdout",
          "text": [
            "Jane Doe\n"
          ]
        }
      ]
    },
    {
      "cell_type": "markdown",
      "source": [
        "### Magic methods\n",
        "Change builtin behaviour and operations of standard functions\n",
        "\n",
        "\n",
        "*   dunder - methods with double underscores\n",
        "*   List item\n",
        "\n"
      ],
      "metadata": {
        "id": "_IcT_j7vuXFa"
      }
    },
    {
      "cell_type": "code",
      "source": [
        "class Employee:\n",
        "  # Dunder init is always called to initialize a class and set the properties\n",
        "  def __init__(self, first, second, pay):\n",
        "    self.first = first\n",
        "    self.second = second\n",
        "    self.pay = pay\n",
        "    self.email = first + '.' +  second + 'second@company.com'\n",
        "\n",
        "  def display_name(self):\n",
        "    return f'{self.first} {self.second}'\n",
        "\n",
        "  # At least two of them is necessary in an object\n",
        "\n",
        "  # Unambiogous representation of the object - for debugging - for programmers\n",
        "  # Should explain how to create the object\n",
        "  def __repr__(self):\n",
        "    return f'Employee({self.first}, {self.second}, {self.pay})'\n",
        "\n",
        "  # Readable representation of the object - for users\n",
        "  def __str__(self):\n",
        "    return f'{self.display_name()} -- {self.email} '\n",
        "\n",
        "  # Customizing the standard additional dunder function\n",
        "  def __add__(self, other):\n",
        "    return self.pay + other.pay\n",
        "\n",
        "  # Customizing the standard lengh dunder function\n",
        "  def __len__(self):\n",
        "    return len(self.display_name())\n",
        "\n",
        "\n",
        "emp1 = Employee('John', 'Doe', 20000)\n",
        "emp2 = Employee('Jane', 'Doe', 10000)\n",
        "\n",
        "emp1.__repr__()\n",
        "emp1.__str__()\n",
        "# Will return\n",
        "# Employee(John, Doe, 20000)\n",
        "# John Doe -- John.Doesecond@company.com\n",
        "\n",
        "print(repr(emp1))\n",
        "print(str(emp1))\n",
        "print(emp1 + emp2)\n",
        "print(len(emp1))\n"
      ],
      "metadata": {
        "id": "Kj-4uDg6vY6G",
        "colab": {
          "base_uri": "https://localhost:8080/"
        },
        "outputId": "0b6eb4b5-d1eb-4a08-ca6f-2b6877104aa0"
      },
      "execution_count": null,
      "outputs": [
        {
          "output_type": "stream",
          "name": "stdout",
          "text": [
            "Employee(John, Doe, 20000)\n",
            "John Doe -- John.Doesecond@company.com \n",
            "30000\n",
            "8\n"
          ]
        }
      ]
    },
    {
      "cell_type": "markdown",
      "source": [
        "### Property decorators"
      ],
      "metadata": {
        "id": "WgPiJHUzSrfy"
      }
    },
    {
      "cell_type": "code",
      "source": [
        "# Update the properties through methods but use them as properties - Define a method but access it like an attribute\n",
        "\n",
        "class Employee:\n",
        "  def __init__(self, first, second):\n",
        "    self.first = first\n",
        "    self.second = second\n",
        "\n",
        "  @property\n",
        "  def email(self):\n",
        "    return  f'{self.first}.{self.second}@company.com'\n",
        "\n",
        "  # To set the above attribute externally, you use a setter like below\n",
        "  @email.setter\n",
        "  def email(self, email):\n",
        "    first, second = (email.split('@')[0]).split('.')\n",
        "    self.first = first\n",
        "    self.second = second\n",
        "\n",
        "  def display_name(self):\n",
        "    return f'{self.first} {self.second}'\n",
        "\n",
        "emp1 = Employee('john', 'doe')\n",
        "\n",
        "# You can access the method email like an attribute\n",
        "print(emp1.email)\n",
        "\n",
        "# You can set the email attribute as below and change the other attributes respectively\n",
        "emp1.email = 'jane.doe@company.com'\n",
        "print(emp1.email)\n",
        "print(emp1.__dict__)\n",
        "\n",
        "\n",
        "\n"
      ],
      "metadata": {
        "colab": {
          "base_uri": "https://localhost:8080/"
        },
        "id": "b4HF0oFnTTqi",
        "outputId": "97a34a22-f15f-4058-84f1-78ab38a7d338"
      },
      "execution_count": null,
      "outputs": [
        {
          "output_type": "stream",
          "name": "stdout",
          "text": [
            "john.Doe@company.com\n",
            "jane.doe@company.com\n",
            "{'first': 'jane', 'second': 'doe'}\n"
          ]
        }
      ]
    }
  ]
}
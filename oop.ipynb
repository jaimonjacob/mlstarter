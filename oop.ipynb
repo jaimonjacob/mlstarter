{
  "nbformat": 4,
  "nbformat_minor": 0,
  "metadata": {
    "colab": {
      "provenance": [],
      "authorship_tag": "ABX9TyOC6Q38CsC/Q43Dcx9Jv+6y",
      "include_colab_link": true
    },
    "kernelspec": {
      "name": "python3",
      "display_name": "Python 3"
    },
    "language_info": {
      "name": "python"
    }
  },
  "cells": [
    {
      "cell_type": "markdown",
      "metadata": {
        "id": "view-in-github",
        "colab_type": "text"
      },
      "source": [
        "<a href=\"https://colab.research.google.com/github/jaimonjacob/mlstarter/blob/main/oop.ipynb\" target=\"_parent\"><img src=\"https://colab.research.google.com/assets/colab-badge.svg\" alt=\"Open In Colab\"/></a>"
      ]
    },
    {
      "cell_type": "markdown",
      "source": [
        "#Classes"
      ],
      "metadata": {
        "id": "T1if6wH3QVRD"
      }
    },
    {
      "cell_type": "code",
      "execution_count": null,
      "metadata": {
        "colab": {
          "base_uri": "https://localhost:8080/",
          "height": 52
        },
        "id": "p_e-bHAzP3To",
        "outputId": "71497b19-af08-4f6f-b201-ff5f6417155f"
      },
      "outputs": [
        {
          "output_type": "stream",
          "name": "stdout",
          "text": [
            "John Doe\n"
          ]
        },
        {
          "output_type": "execute_result",
          "data": {
            "text/plain": [
              "'Jane Doe'"
            ],
            "application/vnd.google.colaboratory.intrinsic+json": {
              "type": "string"
            }
          },
          "metadata": {},
          "execution_count": 5
        }
      ],
      "source": [
        "class Employee:\n",
        "  # Self = the instance\n",
        "  def __init__(self, first, second, pay):\n",
        "    self.first = first\n",
        "    self.second = second\n",
        "    self.pay = pay\n",
        "    self.email = first + '.' +  second + 'second@company.com'\n",
        "  # All the methods take self (instance) as the first parameter\n",
        "  def display_name(self):\n",
        "    return f'{self.first} {self.second}'\n",
        "\n",
        "emp1 = Employee('John', 'Doe', 20000)\n",
        "emp2 = Employee('Jane', 'Doe', 10000)\n",
        "\n",
        "# Here yu dont have to pass self as a paramter as it's automtically done\n",
        "print(emp1.display_name())\n",
        "# The above is simliar as\n",
        "Employee.display_name(emp2)\n",
        "\n"
      ]
    },
    {
      "cell_type": "markdown",
      "source": [
        "##Class variables - Variables that are common across all instances\n"
      ],
      "metadata": {
        "id": "ffcJ4LPvQSsB"
      }
    },
    {
      "cell_type": "code",
      "source": [
        "class Employee:\n",
        "  # the below variable is consistent across all instances, so we declare as a class variable\n",
        "  raise_amount = 2\n",
        "\n",
        "\n",
        "  def __init__(self, first, second, pay):\n",
        "    self.first = first\n",
        "    self.second = second\n",
        "    self.pay = pay\n",
        "    self.email = first + '.' +  second + 'second@company.com'\n",
        "  def display_name(self):\n",
        "    return f'{self.first} {self.second}'\n",
        "  def raise_pay(self):\n",
        "    try:\n",
        "      self.pay = self.pay * self.raise_amount\n",
        "      # The program checks for the attribute in the instance first. If not present, then checks it in the class as such the below code also will work\n",
        "      # self.pay = self.pay * Employee.raise_amount\n",
        "      print(self.pay)\n",
        "    except NameError as e:\n",
        "      print(f'there is a name error - {e}')\n",
        "      # print(f'The pay is increased to {self.pay}')\n",
        "\n",
        "emp1 = Employee('John', 'Doe', 20000)\n",
        "emp1.raise_pay()\n"
      ],
      "metadata": {
        "colab": {
          "base_uri": "https://localhost:8080/"
        },
        "id": "DD3abS5QPkJH",
        "outputId": "aeccef44-2635-4115-bbff-6aeae9ea62d2"
      },
      "execution_count": 13,
      "outputs": [
        {
          "output_type": "stream",
          "name": "stdout",
          "text": [
            "40000\n"
          ]
        }
      ]
    }
  ]
}
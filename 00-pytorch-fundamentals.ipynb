{
 "cells": [
  {
   "cell_type": "code",
   "execution_count": 1,
   "id": "9d833b7a",
   "metadata": {
    "execution": {
     "iopub.execute_input": "2023-12-13T05:06:55.406288Z",
     "iopub.status.busy": "2023-12-13T05:06:55.405061Z",
     "iopub.status.idle": "2023-12-13T05:06:59.182743Z",
     "shell.execute_reply": "2023-12-13T05:06:59.181603Z"
    },
    "papermill": {
     "duration": 3.789647,
     "end_time": "2023-12-13T05:06:59.185334",
     "exception": false,
     "start_time": "2023-12-13T05:06:55.395687",
     "status": "completed"
    },
    "tags": []
   },
   "outputs": [
    {
     "name": "stdout",
     "output_type": "stream",
     "text": [
      "2.0.0+cpu\n"
     ]
    }
   ],
   "source": [
    "import torch\n",
    "import pandas as pd\n",
    "import numpy as np\n",
    "import matplotlib.pyplot as plt\n",
    "print(torch.__version__)"
   ]
  },
  {
   "cell_type": "code",
   "execution_count": 2,
   "id": "fda7ad59",
   "metadata": {
    "execution": {
     "iopub.execute_input": "2023-12-13T05:06:59.199359Z",
     "iopub.status.busy": "2023-12-13T05:06:59.198801Z",
     "iopub.status.idle": "2023-12-13T05:06:59.242642Z",
     "shell.execute_reply": "2023-12-13T05:06:59.241467Z"
    },
    "papermill": {
     "duration": 0.053528,
     "end_time": "2023-12-13T05:06:59.245163",
     "exception": false,
     "start_time": "2023-12-13T05:06:59.191635",
     "status": "completed"
    },
    "tags": []
   },
   "outputs": [
    {
     "name": "stdout",
     "output_type": "stream",
     "text": [
      "tensor(7)\n",
      "0\n",
      "torch.Size([])\n"
     ]
    }
   ],
   "source": [
    "# Scaler\n",
    "scaler = torch.tensor(7)\n",
    "print(scaler)\n",
    "print(scaler.ndim)\n",
    "print(scaler.shape)"
   ]
  },
  {
   "cell_type": "code",
   "execution_count": 3,
   "id": "f4f617bf",
   "metadata": {
    "execution": {
     "iopub.execute_input": "2023-12-13T05:06:59.259396Z",
     "iopub.status.busy": "2023-12-13T05:06:59.259016Z",
     "iopub.status.idle": "2023-12-13T05:06:59.264650Z",
     "shell.execute_reply": "2023-12-13T05:06:59.263937Z"
    },
    "papermill": {
     "duration": 0.015509,
     "end_time": "2023-12-13T05:06:59.266899",
     "exception": false,
     "start_time": "2023-12-13T05:06:59.251390",
     "status": "completed"
    },
    "tags": []
   },
   "outputs": [
    {
     "name": "stdout",
     "output_type": "stream",
     "text": [
      "tensor([1, 2])\n",
      "1\n",
      "torch.Size([2])\n"
     ]
    }
   ],
   "source": [
    "vector = torch.tensor([1, 2])\n",
    "print(vector)\n",
    "print(vector.ndim)\n",
    "print(vector.shape)"
   ]
  },
  {
   "cell_type": "code",
   "execution_count": 4,
   "id": "839c31bb",
   "metadata": {
    "execution": {
     "iopub.execute_input": "2023-12-13T05:06:59.280857Z",
     "iopub.status.busy": "2023-12-13T05:06:59.280465Z",
     "iopub.status.idle": "2023-12-13T05:06:59.290151Z",
     "shell.execute_reply": "2023-12-13T05:06:59.288957Z"
    },
    "papermill": {
     "duration": 0.019288,
     "end_time": "2023-12-13T05:06:59.292304",
     "exception": false,
     "start_time": "2023-12-13T05:06:59.273016",
     "status": "completed"
    },
    "tags": []
   },
   "outputs": [
    {
     "name": "stdout",
     "output_type": "stream",
     "text": [
      "tensor([[ 7,  8],\n",
      "        [ 9, 10]])\n",
      "2\n",
      "torch.Size([2, 2])\n"
     ]
    }
   ],
   "source": [
    "# Matrix\n",
    "MATRIX = torch.tensor([[7, 8], \n",
    "                       [9, 10]])\n",
    "print(MATRIX)\n",
    "print(MATRIX.ndim)\n",
    "print(MATRIX.shape)"
   ]
  },
  {
   "cell_type": "code",
   "execution_count": 5,
   "id": "b05717b4",
   "metadata": {
    "execution": {
     "iopub.execute_input": "2023-12-13T05:06:59.307026Z",
     "iopub.status.busy": "2023-12-13T05:06:59.306301Z",
     "iopub.status.idle": "2023-12-13T05:06:59.313036Z",
     "shell.execute_reply": "2023-12-13T05:06:59.311922Z"
    },
    "papermill": {
     "duration": 0.016551,
     "end_time": "2023-12-13T05:06:59.315140",
     "exception": false,
     "start_time": "2023-12-13T05:06:59.298589",
     "status": "completed"
    },
    "tags": []
   },
   "outputs": [
    {
     "name": "stdout",
     "output_type": "stream",
     "text": [
      "tensor([[[1, 2, 3],\n",
      "         [3, 6, 9],\n",
      "         [2, 4, 5]]])\n",
      "3\n",
      "torch.Size([1, 3, 3])\n"
     ]
    }
   ],
   "source": [
    "# Tensor\n",
    "TENSOR = torch.tensor([[[1, 2, 3],\n",
    "                        [3, 6, 9],\n",
    "                        [2, 4, 5]]])\n",
    "print(TENSOR)\n",
    "print(TENSOR.ndim)\n",
    "print(TENSOR.shape)"
   ]
  },
  {
   "cell_type": "code",
   "execution_count": 6,
   "id": "61e3cad2",
   "metadata": {
    "execution": {
     "iopub.execute_input": "2023-12-13T05:06:59.329995Z",
     "iopub.status.busy": "2023-12-13T05:06:59.329049Z",
     "iopub.status.idle": "2023-12-13T05:06:59.394220Z",
     "shell.execute_reply": "2023-12-13T05:06:59.393245Z"
    },
    "papermill": {
     "duration": 0.074993,
     "end_time": "2023-12-13T05:06:59.396442",
     "exception": false,
     "start_time": "2023-12-13T05:06:59.321449",
     "status": "completed"
    },
    "tags": []
   },
   "outputs": [
    {
     "data": {
      "text/plain": [
       "(tensor([[0.9960, 0.2287, 0.6419, 0.6619],\n",
       "         [0.6497, 0.6545, 0.8077, 0.2993],\n",
       "         [0.1182, 0.0097, 0.2970, 0.2565]]),\n",
       " torch.float32)"
      ]
     },
     "execution_count": 6,
     "metadata": {},
     "output_type": "execute_result"
    }
   ],
   "source": [
    "# Random tensor\n",
    "random_tensor = torch.rand(size=(3, 4))\n",
    "random_tensor, random_tensor.dtype"
   ]
  },
  {
   "cell_type": "code",
   "execution_count": 7,
   "id": "14ce20f8",
   "metadata": {
    "execution": {
     "iopub.execute_input": "2023-12-13T05:06:59.411630Z",
     "iopub.status.busy": "2023-12-13T05:06:59.410983Z",
     "iopub.status.idle": "2023-12-13T05:06:59.420397Z",
     "shell.execute_reply": "2023-12-13T05:06:59.419341Z"
    },
    "papermill": {
     "duration": 0.0197,
     "end_time": "2023-12-13T05:06:59.422744",
     "exception": false,
     "start_time": "2023-12-13T05:06:59.403044",
     "status": "completed"
    },
    "tags": []
   },
   "outputs": [
    {
     "data": {
      "text/plain": [
       "(tensor([[0., 0., 0., 0.],\n",
       "         [0., 0., 0., 0.],\n",
       "         [0., 0., 0., 0.]]),\n",
       " torch.float32)"
      ]
     },
     "execution_count": 7,
     "metadata": {},
     "output_type": "execute_result"
    }
   ],
   "source": [
    "# Create a tensor of all zeros\n",
    "zeros = torch.zeros(size=(3, 4))\n",
    "zeros, zeros.dtype"
   ]
  },
  {
   "cell_type": "markdown",
   "id": "7165ecba",
   "metadata": {
    "papermill": {
     "duration": 0.006775,
     "end_time": "2023-12-13T05:06:59.436174",
     "exception": false,
     "start_time": "2023-12-13T05:06:59.429399",
     "status": "completed"
    },
    "tags": []
   },
   "source": []
  },
  {
   "cell_type": "code",
   "execution_count": 8,
   "id": "6d5212ce",
   "metadata": {
    "execution": {
     "iopub.execute_input": "2023-12-13T05:06:59.451602Z",
     "iopub.status.busy": "2023-12-13T05:06:59.450945Z",
     "iopub.status.idle": "2023-12-13T05:06:59.460074Z",
     "shell.execute_reply": "2023-12-13T05:06:59.459076Z"
    },
    "papermill": {
     "duration": 0.019397,
     "end_time": "2023-12-13T05:06:59.462250",
     "exception": false,
     "start_time": "2023-12-13T05:06:59.442853",
     "status": "completed"
    },
    "tags": []
   },
   "outputs": [
    {
     "data": {
      "text/plain": [
       "(tensor([[1., 1., 1., 1.],\n",
       "         [1., 1., 1., 1.],\n",
       "         [1., 1., 1., 1.]]),\n",
       " torch.float32)"
      ]
     },
     "execution_count": 8,
     "metadata": {},
     "output_type": "execute_result"
    }
   ],
   "source": [
    "# Create a tensor of all ones\n",
    "ones = torch.ones(size=(3, 4))\n",
    "ones, ones.dtype"
   ]
  },
  {
   "cell_type": "code",
   "execution_count": 9,
   "id": "79ea1dd4",
   "metadata": {
    "execution": {
     "iopub.execute_input": "2023-12-13T05:06:59.477627Z",
     "iopub.status.busy": "2023-12-13T05:06:59.476972Z",
     "iopub.status.idle": "2023-12-13T05:06:59.490761Z",
     "shell.execute_reply": "2023-12-13T05:06:59.489802Z"
    },
    "papermill": {
     "duration": 0.02403,
     "end_time": "2023-12-13T05:06:59.493175",
     "exception": false,
     "start_time": "2023-12-13T05:06:59.469145",
     "status": "completed"
    },
    "tags": []
   },
   "outputs": [
    {
     "data": {
      "text/plain": [
       "(tensor([0, 2, 4, 6, 8]), torch.Size([5]), 1)"
      ]
     },
     "execution_count": 9,
     "metadata": {},
     "output_type": "execute_result"
    }
   ],
   "source": [
    "# Tensor from a range\n",
    "one_to_ten = torch.arange(start=0, end=10, step=2)\n",
    "one_to_ten, one_to_ten.shape, one_to_ten.ndim  "
   ]
  },
  {
   "cell_type": "code",
   "execution_count": 10,
   "id": "46c5d2bd",
   "metadata": {
    "execution": {
     "iopub.execute_input": "2023-12-13T05:06:59.508703Z",
     "iopub.status.busy": "2023-12-13T05:06:59.508347Z",
     "iopub.status.idle": "2023-12-13T05:06:59.515578Z",
     "shell.execute_reply": "2023-12-13T05:06:59.514507Z"
    },
    "papermill": {
     "duration": 0.017889,
     "end_time": "2023-12-13T05:06:59.517996",
     "exception": false,
     "start_time": "2023-12-13T05:06:59.500107",
     "status": "completed"
    },
    "tags": []
   },
   "outputs": [
    {
     "data": {
      "text/plain": [
       "tensor([0, 0, 0, 0, 0])"
      ]
     },
     "execution_count": 10,
     "metadata": {},
     "output_type": "execute_result"
    }
   ],
   "source": [
    "# Creating tensors like\n",
    "five_zeros = torch.zeros_like(input = one_to_ten)\n",
    "five_zeros    "
   ]
  },
  {
   "cell_type": "markdown",
   "id": "3793a60e",
   "metadata": {
    "papermill": {
     "duration": 0.006742,
     "end_time": "2023-12-13T05:06:59.531837",
     "exception": false,
     "start_time": "2023-12-13T05:06:59.525095",
     "status": "completed"
    },
    "tags": []
   },
   "source": [
    "### Common issues that we come across with pytorch\n",
    "\n",
    "* Tensors not correct data type\n",
    "* Tensors not right shape\n",
    "* Tensors not on the right device"
   ]
  },
  {
   "cell_type": "code",
   "execution_count": 11,
   "id": "91647013",
   "metadata": {
    "execution": {
     "iopub.execute_input": "2023-12-13T05:06:59.547471Z",
     "iopub.status.busy": "2023-12-13T05:06:59.547091Z",
     "iopub.status.idle": "2023-12-13T05:06:59.555659Z",
     "shell.execute_reply": "2023-12-13T05:06:59.554627Z"
    },
    "papermill": {
     "duration": 0.018771,
     "end_time": "2023-12-13T05:06:59.557730",
     "exception": false,
     "start_time": "2023-12-13T05:06:59.538959",
     "status": "completed"
    },
    "tags": []
   },
   "outputs": [
    {
     "data": {
      "text/plain": [
       "(tensor([1., 2., 3., 4., 6.]), torch.float32, device(type='cpu'))"
      ]
     },
     "execution_count": 11,
     "metadata": {},
     "output_type": "execute_result"
    }
   ],
   "source": [
    "# Datatype\n",
    "\n",
    "torch_flot32 = torch.tensor([1, 2, 3, 4, 6], dtype=torch.float32, device=None, requires_grad=False)\n",
    "torch_flot32, torch_flot32.dtype, torch_flot32.device"
   ]
  },
  {
   "cell_type": "code",
   "execution_count": 12,
   "id": "8a9f70f1",
   "metadata": {
    "execution": {
     "iopub.execute_input": "2023-12-13T05:06:59.573868Z",
     "iopub.status.busy": "2023-12-13T05:06:59.573469Z",
     "iopub.status.idle": "2023-12-13T05:06:59.582694Z",
     "shell.execute_reply": "2023-12-13T05:06:59.581699Z"
    },
    "papermill": {
     "duration": 0.019886,
     "end_time": "2023-12-13T05:06:59.584871",
     "exception": false,
     "start_time": "2023-12-13T05:06:59.564985",
     "status": "completed"
    },
    "tags": []
   },
   "outputs": [
    {
     "data": {
      "text/plain": [
       "tensor([1., 2., 3., 4., 6.], dtype=torch.float16)"
      ]
     },
     "execution_count": 12,
     "metadata": {},
     "output_type": "execute_result"
    }
   ],
   "source": [
    "# Changing datatype\n",
    "torch_flot16 = torch_flot32.type(torch.half)\n",
    "torch_flot16 \n"
   ]
  },
  {
   "cell_type": "code",
   "execution_count": 13,
   "id": "e9806dfa",
   "metadata": {
    "execution": {
     "iopub.execute_input": "2023-12-13T05:06:59.601444Z",
     "iopub.status.busy": "2023-12-13T05:06:59.601054Z",
     "iopub.status.idle": "2023-12-13T05:06:59.609025Z",
     "shell.execute_reply": "2023-12-13T05:06:59.608024Z"
    },
    "papermill": {
     "duration": 0.018972,
     "end_time": "2023-12-13T05:06:59.611274",
     "exception": false,
     "start_time": "2023-12-13T05:06:59.592302",
     "status": "completed"
    },
    "tags": []
   },
   "outputs": [
    {
     "data": {
      "text/plain": [
       "tensor([ 1.,  4.,  9., 16., 36.])"
      ]
     },
     "execution_count": 13,
     "metadata": {},
     "output_type": "execute_result"
    }
   ],
   "source": [
    "torch_flot32 * torch_flot16 "
   ]
  },
  {
   "cell_type": "markdown",
   "id": "5fe197a3",
   "metadata": {
    "papermill": {
     "duration": 0.007192,
     "end_time": "2023-12-13T05:06:59.626140",
     "exception": false,
     "start_time": "2023-12-13T05:06:59.618948",
     "status": "completed"
    },
    "tags": []
   },
   "source": [
    "### Getting information from tensors"
   ]
  },
  {
   "cell_type": "code",
   "execution_count": 14,
   "id": "b3a961a5",
   "metadata": {
    "execution": {
     "iopub.execute_input": "2023-12-13T05:06:59.643118Z",
     "iopub.status.busy": "2023-12-13T05:06:59.642327Z",
     "iopub.status.idle": "2023-12-13T05:06:59.653444Z",
     "shell.execute_reply": "2023-12-13T05:06:59.652686Z"
    },
    "papermill": {
     "duration": 0.021977,
     "end_time": "2023-12-13T05:06:59.655481",
     "exception": false,
     "start_time": "2023-12-13T05:06:59.633504",
     "status": "completed"
    },
    "tags": []
   },
   "outputs": [
    {
     "data": {
      "text/plain": [
       "(tensor([[0.9960, 0.2287, 0.6419, 0.6619],\n",
       "         [0.6497, 0.6545, 0.8077, 0.2993],\n",
       "         [0.1182, 0.0097, 0.2970, 0.2565]]),\n",
       " torch.float32,\n",
       " torch.Size([3, 4]),\n",
       " device(type='cpu'))"
      ]
     },
     "execution_count": 14,
     "metadata": {},
     "output_type": "execute_result"
    }
   ],
   "source": [
    "random_tensor - torch.rand(2, 3, 4)\n",
    "random_tensor, random_tensor.dtype, random_tensor.shape, random_tensor.device\n"
   ]
  }
 ],
 "metadata": {
  "kaggle": {
   "accelerator": "none",
   "dataSources": [],
   "dockerImageVersionId": 30615,
   "isGpuEnabled": false,
   "isInternetEnabled": false,
   "language": "python",
   "sourceType": "notebook"
  },
  "kernelspec": {
   "display_name": "Python 3",
   "language": "python",
   "name": "python3"
  },
  "language_info": {
   "codemirror_mode": {
    "name": "ipython",
    "version": 3
   },
   "file_extension": ".py",
   "mimetype": "text/x-python",
   "name": "python",
   "nbconvert_exporter": "python",
   "pygments_lexer": "ipython3",
   "version": "3.10.12"
  },
  "papermill": {
   "default_parameters": {},
   "duration": 8.558616,
   "end_time": "2023-12-13T05:07:00.584956",
   "environment_variables": {},
   "exception": null,
   "input_path": "__notebook__.ipynb",
   "output_path": "__notebook__.ipynb",
   "parameters": {},
   "start_time": "2023-12-13T05:06:52.026340",
   "version": "2.4.0"
  }
 },
 "nbformat": 4,
 "nbformat_minor": 5
}

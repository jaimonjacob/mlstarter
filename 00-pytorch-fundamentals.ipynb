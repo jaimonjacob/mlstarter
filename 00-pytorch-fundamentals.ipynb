{
 "cells": [
  {
   "cell_type": "code",
   "execution_count": 1,
   "id": "3bfa2023",
   "metadata": {
    "execution": {
     "iopub.execute_input": "2023-12-13T05:03:48.427609Z",
     "iopub.status.busy": "2023-12-13T05:03:48.426684Z",
     "iopub.status.idle": "2023-12-13T05:03:52.876893Z",
     "shell.execute_reply": "2023-12-13T05:03:52.874813Z"
    },
    "papermill": {
     "duration": 4.462545,
     "end_time": "2023-12-13T05:03:52.880605",
     "exception": false,
     "start_time": "2023-12-13T05:03:48.418060",
     "status": "completed"
    },
    "tags": []
   },
   "outputs": [
    {
     "name": "stdout",
     "output_type": "stream",
     "text": [
      "2.0.0+cpu\n"
     ]
    }
   ],
   "source": [
    "import torch\n",
    "import pandas as pd\n",
    "import numpy as np\n",
    "import matplotlib.pyplot as plt\n",
    "print(torch.__version__)"
   ]
  },
  {
   "cell_type": "code",
   "execution_count": 2,
   "id": "6b43b1a0",
   "metadata": {
    "execution": {
     "iopub.execute_input": "2023-12-13T05:03:52.895150Z",
     "iopub.status.busy": "2023-12-13T05:03:52.894476Z",
     "iopub.status.idle": "2023-12-13T05:03:52.944987Z",
     "shell.execute_reply": "2023-12-13T05:03:52.943701Z"
    },
    "papermill": {
     "duration": 0.061659,
     "end_time": "2023-12-13T05:03:52.948506",
     "exception": false,
     "start_time": "2023-12-13T05:03:52.886847",
     "status": "completed"
    },
    "tags": []
   },
   "outputs": [
    {
     "name": "stdout",
     "output_type": "stream",
     "text": [
      "tensor(7)\n",
      "0\n",
      "torch.Size([])\n"
     ]
    }
   ],
   "source": [
    "# Scaler\n",
    "scaler = torch.tensor(7)\n",
    "print(scaler)\n",
    "print(scaler.ndim)\n",
    "print(scaler.shape)"
   ]
  },
  {
   "cell_type": "code",
   "execution_count": 3,
   "id": "a2959211",
   "metadata": {
    "execution": {
     "iopub.execute_input": "2023-12-13T05:03:52.964361Z",
     "iopub.status.busy": "2023-12-13T05:03:52.963013Z",
     "iopub.status.idle": "2023-12-13T05:03:52.971296Z",
     "shell.execute_reply": "2023-12-13T05:03:52.970049Z"
    },
    "papermill": {
     "duration": 0.019451,
     "end_time": "2023-12-13T05:03:52.974576",
     "exception": false,
     "start_time": "2023-12-13T05:03:52.955125",
     "status": "completed"
    },
    "tags": []
   },
   "outputs": [
    {
     "name": "stdout",
     "output_type": "stream",
     "text": [
      "tensor([1, 2])\n",
      "1\n",
      "torch.Size([2])\n"
     ]
    }
   ],
   "source": [
    "vector = torch.tensor([1, 2])\n",
    "print(vector)\n",
    "print(vector.ndim)\n",
    "print(vector.shape)"
   ]
  },
  {
   "cell_type": "code",
   "execution_count": 4,
   "id": "a73de6fd",
   "metadata": {
    "execution": {
     "iopub.execute_input": "2023-12-13T05:03:52.991244Z",
     "iopub.status.busy": "2023-12-13T05:03:52.990453Z",
     "iopub.status.idle": "2023-12-13T05:03:53.001784Z",
     "shell.execute_reply": "2023-12-13T05:03:53.000302Z"
    },
    "papermill": {
     "duration": 0.023219,
     "end_time": "2023-12-13T05:03:53.005401",
     "exception": false,
     "start_time": "2023-12-13T05:03:52.982182",
     "status": "completed"
    },
    "tags": []
   },
   "outputs": [
    {
     "name": "stdout",
     "output_type": "stream",
     "text": [
      "tensor([[ 7,  8],\n",
      "        [ 9, 10]])\n",
      "2\n",
      "torch.Size([2, 2])\n"
     ]
    }
   ],
   "source": [
    "# Matrix\n",
    "MATRIX = torch.tensor([[7, 8], \n",
    "                       [9, 10]])\n",
    "print(MATRIX)\n",
    "print(MATRIX.ndim)\n",
    "print(MATRIX.shape)"
   ]
  },
  {
   "cell_type": "code",
   "execution_count": 5,
   "id": "110baff6",
   "metadata": {
    "execution": {
     "iopub.execute_input": "2023-12-13T05:03:53.020652Z",
     "iopub.status.busy": "2023-12-13T05:03:53.019825Z",
     "iopub.status.idle": "2023-12-13T05:03:53.028242Z",
     "shell.execute_reply": "2023-12-13T05:03:53.027190Z"
    },
    "papermill": {
     "duration": 0.019073,
     "end_time": "2023-12-13T05:03:53.030838",
     "exception": false,
     "start_time": "2023-12-13T05:03:53.011765",
     "status": "completed"
    },
    "tags": []
   },
   "outputs": [
    {
     "name": "stdout",
     "output_type": "stream",
     "text": [
      "tensor([[[1, 2, 3],\n",
      "         [3, 6, 9],\n",
      "         [2, 4, 5]]])\n",
      "3\n",
      "torch.Size([1, 3, 3])\n"
     ]
    }
   ],
   "source": [
    "# Tensor\n",
    "TENSOR = torch.tensor([[[1, 2, 3],\n",
    "                        [3, 6, 9],\n",
    "                        [2, 4, 5]]])\n",
    "print(TENSOR)\n",
    "print(TENSOR.ndim)\n",
    "print(TENSOR.shape)"
   ]
  },
  {
   "cell_type": "code",
   "execution_count": 6,
   "id": "dcf3c7b0",
   "metadata": {
    "execution": {
     "iopub.execute_input": "2023-12-13T05:03:53.045979Z",
     "iopub.status.busy": "2023-12-13T05:03:53.045277Z",
     "iopub.status.idle": "2023-12-13T05:03:53.119299Z",
     "shell.execute_reply": "2023-12-13T05:03:53.118047Z"
    },
    "papermill": {
     "duration": 0.08513,
     "end_time": "2023-12-13T05:03:53.122164",
     "exception": false,
     "start_time": "2023-12-13T05:03:53.037034",
     "status": "completed"
    },
    "tags": []
   },
   "outputs": [
    {
     "data": {
      "text/plain": [
       "(tensor([[0.0359, 0.2363, 0.5984, 0.8403],\n",
       "         [0.6762, 0.0967, 0.0625, 0.7149],\n",
       "         [0.0506, 0.9202, 0.1231, 0.8083]]),\n",
       " torch.float32)"
      ]
     },
     "execution_count": 6,
     "metadata": {},
     "output_type": "execute_result"
    }
   ],
   "source": [
    "# Random tensor\n",
    "random_tensor = torch.rand(size=(3, 4))\n",
    "random_tensor, random_tensor.dtype"
   ]
  },
  {
   "cell_type": "code",
   "execution_count": 7,
   "id": "e63ef141",
   "metadata": {
    "execution": {
     "iopub.execute_input": "2023-12-13T05:03:53.138617Z",
     "iopub.status.busy": "2023-12-13T05:03:53.137795Z",
     "iopub.status.idle": "2023-12-13T05:03:53.152639Z",
     "shell.execute_reply": "2023-12-13T05:03:53.147931Z"
    },
    "papermill": {
     "duration": 0.026873,
     "end_time": "2023-12-13T05:03:53.155739",
     "exception": false,
     "start_time": "2023-12-13T05:03:53.128866",
     "status": "completed"
    },
    "tags": []
   },
   "outputs": [
    {
     "data": {
      "text/plain": [
       "(tensor([[0., 0., 0., 0.],\n",
       "         [0., 0., 0., 0.],\n",
       "         [0., 0., 0., 0.]]),\n",
       " torch.float32)"
      ]
     },
     "execution_count": 7,
     "metadata": {},
     "output_type": "execute_result"
    }
   ],
   "source": [
    "# Create a tensor of all zeros\n",
    "zeros = torch.zeros(size=(3, 4))\n",
    "zeros, zeros.dtype"
   ]
  },
  {
   "cell_type": "markdown",
   "id": "61472f80",
   "metadata": {
    "papermill": {
     "duration": 0.006223,
     "end_time": "2023-12-13T05:03:53.168619",
     "exception": false,
     "start_time": "2023-12-13T05:03:53.162396",
     "status": "completed"
    },
    "tags": []
   },
   "source": []
  },
  {
   "cell_type": "code",
   "execution_count": 8,
   "id": "4bc00580",
   "metadata": {
    "execution": {
     "iopub.execute_input": "2023-12-13T05:03:53.184479Z",
     "iopub.status.busy": "2023-12-13T05:03:53.183679Z",
     "iopub.status.idle": "2023-12-13T05:03:53.195149Z",
     "shell.execute_reply": "2023-12-13T05:03:53.193762Z"
    },
    "papermill": {
     "duration": 0.022591,
     "end_time": "2023-12-13T05:03:53.197827",
     "exception": false,
     "start_time": "2023-12-13T05:03:53.175236",
     "status": "completed"
    },
    "tags": []
   },
   "outputs": [
    {
     "data": {
      "text/plain": [
       "(tensor([[1., 1., 1., 1.],\n",
       "         [1., 1., 1., 1.],\n",
       "         [1., 1., 1., 1.]]),\n",
       " torch.float32)"
      ]
     },
     "execution_count": 8,
     "metadata": {},
     "output_type": "execute_result"
    }
   ],
   "source": [
    "# Create a tensor of all ones\n",
    "ones = torch.ones(size=(3, 4))\n",
    "ones, ones.dtype"
   ]
  },
  {
   "cell_type": "code",
   "execution_count": 9,
   "id": "2432ff1d",
   "metadata": {
    "execution": {
     "iopub.execute_input": "2023-12-13T05:03:53.213862Z",
     "iopub.status.busy": "2023-12-13T05:03:53.213327Z",
     "iopub.status.idle": "2023-12-13T05:03:53.228469Z",
     "shell.execute_reply": "2023-12-13T05:03:53.227199Z"
    },
    "papermill": {
     "duration": 0.027199,
     "end_time": "2023-12-13T05:03:53.231690",
     "exception": false,
     "start_time": "2023-12-13T05:03:53.204491",
     "status": "completed"
    },
    "tags": []
   },
   "outputs": [
    {
     "data": {
      "text/plain": [
       "(tensor([0, 2, 4, 6, 8]), torch.Size([5]), 1)"
      ]
     },
     "execution_count": 9,
     "metadata": {},
     "output_type": "execute_result"
    }
   ],
   "source": [
    "# Tensor from a range\n",
    "one_to_ten = torch.arange(start=0, end=10, step=2)\n",
    "one_to_ten, one_to_ten.shape, one_to_ten.ndim  "
   ]
  },
  {
   "cell_type": "code",
   "execution_count": 10,
   "id": "1d834271",
   "metadata": {
    "execution": {
     "iopub.execute_input": "2023-12-13T05:03:53.249105Z",
     "iopub.status.busy": "2023-12-13T05:03:53.248206Z",
     "iopub.status.idle": "2023-12-13T05:03:53.256624Z",
     "shell.execute_reply": "2023-12-13T05:03:53.255473Z"
    },
    "papermill": {
     "duration": 0.020327,
     "end_time": "2023-12-13T05:03:53.259123",
     "exception": false,
     "start_time": "2023-12-13T05:03:53.238796",
     "status": "completed"
    },
    "tags": []
   },
   "outputs": [
    {
     "data": {
      "text/plain": [
       "tensor([0, 0, 0, 0, 0])"
      ]
     },
     "execution_count": 10,
     "metadata": {},
     "output_type": "execute_result"
    }
   ],
   "source": [
    "# Creating tensors like\n",
    "five_zeros = torch.zeros_like(input = one_to_ten)\n",
    "five_zeros    "
   ]
  },
  {
   "cell_type": "markdown",
   "id": "217cf5b6",
   "metadata": {
    "papermill": {
     "duration": 0.007175,
     "end_time": "2023-12-13T05:03:53.273509",
     "exception": false,
     "start_time": "2023-12-13T05:03:53.266334",
     "status": "completed"
    },
    "tags": []
   },
   "source": [
    "### Common issues that we come across with pytorch\n",
    "\n",
    "* Tensors not correct data type\n",
    "* Tensors not right shape\n",
    "* Tensors not on the right device"
   ]
  },
  {
   "cell_type": "code",
   "execution_count": 11,
   "id": "16a837d1",
   "metadata": {
    "execution": {
     "iopub.execute_input": "2023-12-13T05:03:53.294116Z",
     "iopub.status.busy": "2023-12-13T05:03:53.293191Z",
     "iopub.status.idle": "2023-12-13T05:03:53.307255Z",
     "shell.execute_reply": "2023-12-13T05:03:53.305529Z"
    },
    "papermill": {
     "duration": 0.029397,
     "end_time": "2023-12-13T05:03:53.310997",
     "exception": false,
     "start_time": "2023-12-13T05:03:53.281600",
     "status": "completed"
    },
    "tags": []
   },
   "outputs": [
    {
     "data": {
      "text/plain": [
       "(tensor([1., 2., 3., 4., 6.]), torch.float32, device(type='cpu'))"
      ]
     },
     "execution_count": 11,
     "metadata": {},
     "output_type": "execute_result"
    }
   ],
   "source": [
    "# Datatype\n",
    "\n",
    "torch_flot32 = torch.tensor([1, 2, 3, 4, 6], dtype=torch.float32, device=None, requires_grad=False)\n",
    "torch_flot32, torch_flot32.dtype, torch_flot32.device"
   ]
  },
  {
   "cell_type": "code",
   "execution_count": 12,
   "id": "b3d9d2d4",
   "metadata": {
    "execution": {
     "iopub.execute_input": "2023-12-13T05:03:53.332601Z",
     "iopub.status.busy": "2023-12-13T05:03:53.331978Z",
     "iopub.status.idle": "2023-12-13T05:03:53.343368Z",
     "shell.execute_reply": "2023-12-13T05:03:53.342153Z"
    },
    "papermill": {
     "duration": 0.025807,
     "end_time": "2023-12-13T05:03:53.346004",
     "exception": false,
     "start_time": "2023-12-13T05:03:53.320197",
     "status": "completed"
    },
    "tags": []
   },
   "outputs": [
    {
     "data": {
      "text/plain": [
       "tensor([1., 2., 3., 4., 6.], dtype=torch.float16)"
      ]
     },
     "execution_count": 12,
     "metadata": {},
     "output_type": "execute_result"
    }
   ],
   "source": [
    "# Changing datatype\n",
    "torch_flot16 = torch_flot32.type(torch.half)\n",
    "torch_flot16 \n"
   ]
  },
  {
   "cell_type": "code",
   "execution_count": 13,
   "id": "9f87c5ff",
   "metadata": {
    "execution": {
     "iopub.execute_input": "2023-12-13T05:03:53.363416Z",
     "iopub.status.busy": "2023-12-13T05:03:53.362927Z",
     "iopub.status.idle": "2023-12-13T05:03:53.372192Z",
     "shell.execute_reply": "2023-12-13T05:03:53.370864Z"
    },
    "papermill": {
     "duration": 0.021171,
     "end_time": "2023-12-13T05:03:53.374764",
     "exception": false,
     "start_time": "2023-12-13T05:03:53.353593",
     "status": "completed"
    },
    "tags": []
   },
   "outputs": [
    {
     "data": {
      "text/plain": [
       "tensor([ 1.,  4.,  9., 16., 36.])"
      ]
     },
     "execution_count": 13,
     "metadata": {},
     "output_type": "execute_result"
    }
   ],
   "source": [
    "torch_flot32 * torch_flot16 "
   ]
  }
 ],
 "metadata": {
  "kaggle": {
   "accelerator": "none",
   "dataSources": [],
   "dockerImageVersionId": 30615,
   "isGpuEnabled": false,
   "isInternetEnabled": false,
   "language": "python",
   "sourceType": "notebook"
  },
  "kernelspec": {
   "display_name": "Python 3",
   "language": "python",
   "name": "python3"
  },
  "language_info": {
   "codemirror_mode": {
    "name": "ipython",
    "version": 3
   },
   "file_extension": ".py",
   "mimetype": "text/x-python",
   "name": "python",
   "nbconvert_exporter": "python",
   "pygments_lexer": "ipython3",
   "version": "3.10.12"
  },
  "papermill": {
   "default_parameters": {},
   "duration": 9.811098,
   "end_time": "2023-12-13T05:03:54.607926",
   "environment_variables": {},
   "exception": null,
   "input_path": "__notebook__.ipynb",
   "output_path": "__notebook__.ipynb",
   "parameters": {},
   "start_time": "2023-12-13T05:03:44.796828",
   "version": "2.4.0"
  }
 },
 "nbformat": 4,
 "nbformat_minor": 5
}

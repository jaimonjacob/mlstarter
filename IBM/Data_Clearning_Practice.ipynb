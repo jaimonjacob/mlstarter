{
 "cells": [
  {
   "cell_type": "code",
   "execution_count": 12,
   "metadata": {},
   "outputs": [],
   "source": [
    "import pandas as pd\n",
    "import matplotlib as plt\n",
    "import seaborn as sns"
   ]
  },
  {
   "cell_type": "code",
   "execution_count": 8,
   "metadata": {},
   "outputs": [
    {
     "data": {
      "text/html": [
       "<div>\n",
       "<style scoped>\n",
       "    .dataframe tbody tr th:only-of-type {\n",
       "        vertical-align: middle;\n",
       "    }\n",
       "\n",
       "    .dataframe tbody tr th {\n",
       "        vertical-align: top;\n",
       "    }\n",
       "\n",
       "    .dataframe thead th {\n",
       "        text-align: right;\n",
       "    }\n",
       "</style>\n",
       "<table border=\"1\" class=\"dataframe\">\n",
       "  <thead>\n",
       "    <tr style=\"text-align: right;\">\n",
       "      <th></th>\n",
       "      <th>Date</th>\n",
       "      <th>Country</th>\n",
       "      <th>Total Cases</th>\n",
       "      <th>Total Deaths</th>\n",
       "      <th>Total Recovered</th>\n",
       "      <th>Population</th>\n",
       "      <th>Vaccination Rate</th>\n",
       "      <th>GDP per Capita</th>\n",
       "      <th>Healthcare Spending</th>\n",
       "      <th>Hospital Beds per 1,000 People</th>\n",
       "      <th>ICU Beds per 1,000 People</th>\n",
       "      <th>HDI</th>\n",
       "    </tr>\n",
       "  </thead>\n",
       "  <tbody>\n",
       "    <tr>\n",
       "      <th>2022-01-01</th>\n",
       "      <td>USA</td>\n",
       "      <td>5000000</td>\n",
       "      <td>100000</td>\n",
       "      <td>3000000</td>\n",
       "      <td>331000000</td>\n",
       "      <td>40.5</td>\n",
       "      <td>62000</td>\n",
       "      <td>10000</td>\n",
       "      <td>3.5</td>\n",
       "      <td>2.5</td>\n",
       "      <td>0.20</td>\n",
       "      <td>0.92</td>\n",
       "    </tr>\n",
       "    <tr>\n",
       "      <th>2022-01-01</th>\n",
       "      <td>China</td>\n",
       "      <td>1200000</td>\n",
       "      <td>50000</td>\n",
       "      <td>1100000</td>\n",
       "      <td>1444216107</td>\n",
       "      <td>60.0</td>\n",
       "      <td>16000</td>\n",
       "      <td>5000</td>\n",
       "      <td>4.5</td>\n",
       "      <td>2.0</td>\n",
       "      <td>0.10</td>\n",
       "      <td>0.75</td>\n",
       "    </tr>\n",
       "    <tr>\n",
       "      <th>2022-01-01</th>\n",
       "      <td>India</td>\n",
       "      <td>7000000</td>\n",
       "      <td>200000</td>\n",
       "      <td>6500000</td>\n",
       "      <td>1380004385</td>\n",
       "      <td>35.2</td>\n",
       "      <td>7200</td>\n",
       "      <td>1000</td>\n",
       "      <td>2.8</td>\n",
       "      <td>1.2</td>\n",
       "      <td>0.05</td>\n",
       "      <td>0.64</td>\n",
       "    </tr>\n",
       "    <tr>\n",
       "      <th>2022-01-01</th>\n",
       "      <td>Brazil</td>\n",
       "      <td>3500000</td>\n",
       "      <td>120000</td>\n",
       "      <td>3200000</td>\n",
       "      <td>212559417</td>\n",
       "      <td>25.6</td>\n",
       "      <td>10000</td>\n",
       "      <td>2500</td>\n",
       "      <td>2.9</td>\n",
       "      <td>2.0</td>\n",
       "      <td>0.15</td>\n",
       "      <td>0.76</td>\n",
       "    </tr>\n",
       "  </tbody>\n",
       "</table>\n",
       "</div>"
      ],
      "text/plain": [
       "              Date  Country  Total Cases  Total Deaths  Total Recovered  \\\n",
       "2022-01-01     USA  5000000       100000       3000000        331000000   \n",
       "2022-01-01   China  1200000        50000       1100000       1444216107   \n",
       "2022-01-01   India  7000000       200000       6500000       1380004385   \n",
       "2022-01-01  Brazil  3500000       120000       3200000        212559417   \n",
       "\n",
       "            Population  Vaccination Rate  GDP per Capita  Healthcare Spending  \\\n",
       "2022-01-01        40.5             62000           10000                  3.5   \n",
       "2022-01-01        60.0             16000            5000                  4.5   \n",
       "2022-01-01        35.2              7200            1000                  2.8   \n",
       "2022-01-01        25.6             10000            2500                  2.9   \n",
       "\n",
       "            Hospital Beds per 1,000 People  ICU Beds per 1,000 People   HDI  \n",
       "2022-01-01                             2.5                       0.20  0.92  \n",
       "2022-01-01                             2.0                       0.10  0.75  \n",
       "2022-01-01                             1.2                       0.05  0.64  \n",
       "2022-01-01                             2.0                       0.15  0.76  "
      ]
     },
     "execution_count": 8,
     "metadata": {},
     "output_type": "execute_result"
    }
   ],
   "source": [
    "df = pd.read_csv ('covid_dataset.csv')\n",
    "df.head()"
   ]
  },
  {
   "cell_type": "code",
   "execution_count": 15,
   "metadata": {},
   "outputs": [
    {
     "data": {
      "text/plain": [
       "Country                           0.94\n",
       "Total Cases                       0.99\n",
       "Total Deaths                      1.00\n",
       "Total Recovered                   0.14\n",
       "Population                       -0.60\n",
       "Vaccination Rate                 -0.27\n",
       "GDP per Capita                   -0.52\n",
       "Healthcare Spending              -0.83\n",
       "Hospital Beds per 1,000 People   -0.74\n",
       "ICU Beds per 1,000 People        -0.48\n",
       "HDI                              -0.53\n",
       "Name: Total Deaths, dtype: float64"
      ]
     },
     "execution_count": 15,
     "metadata": {},
     "output_type": "execute_result"
    }
   ],
   "source": [
    "filtered_data  = df.select_dtypes(include = ['float64', 'int64'])\n",
    "filtered_data.head()\n",
    "\n",
    "corr_matrix = filtered_data.corr().round(2) \n",
    "corr_matrix['Total Deaths']\n",
    "\n"
   ]
  }
 ],
 "metadata": {
  "kernelspec": {
   "display_name": "venv",
   "language": "python",
   "name": "python3"
  },
  "language_info": {
   "codemirror_mode": {
    "name": "ipython",
    "version": 3
   },
   "file_extension": ".py",
   "mimetype": "text/x-python",
   "name": "python",
   "nbconvert_exporter": "python",
   "pygments_lexer": "ipython3",
   "version": "3.11.5"
  }
 },
 "nbformat": 4,
 "nbformat_minor": 2
}

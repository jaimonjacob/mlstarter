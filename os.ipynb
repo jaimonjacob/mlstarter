{
  "nbformat": 4,
  "nbformat_minor": 0,
  "metadata": {
    "colab": {
      "provenance": [],
      "authorship_tag": "ABX9TyOXwhgSj1pFO6x9HU4Vv8PW",
      "include_colab_link": true
    },
    "kernelspec": {
      "name": "python3",
      "display_name": "Python 3"
    },
    "language_info": {
      "name": "python"
    }
  },
  "cells": [
    {
      "cell_type": "markdown",
      "metadata": {
        "id": "view-in-github",
        "colab_type": "text"
      },
      "source": [
        "<a href=\"https://colab.research.google.com/github/jaimonjacob/mlstarter/blob/main/os.ipynb\" target=\"_parent\"><img src=\"https://colab.research.google.com/assets/colab-badge.svg\" alt=\"Open In Colab\"/></a>"
      ]
    },
    {
      "cell_type": "code",
      "execution_count": 1,
      "metadata": {
        "colab": {
          "base_uri": "https://localhost:8080/"
        },
        "id": "FaeYWx-UlLUg",
        "outputId": "c2536912-df6c-4767-f842-3706d9d70f6b"
      },
      "outputs": [
        {
          "output_type": "stream",
          "name": "stdout",
          "text": [
            "/content\n",
            "['.config', 'sample_data']\n",
            "/content/sample_data\n"
          ]
        }
      ],
      "source": [
        "import os\n",
        "# Get current working directory\n",
        "print(os.getcwd())\n",
        "\n",
        "# Print the contents of the current working directory\n",
        "print(os.listdir())\n",
        "\n",
        "# Change the current working directory\n",
        "os.chdir('/content/sample_data')\n",
        "print (os.getcwd())"
      ]
    },
    {
      "cell_type": "code",
      "source": [
        "os.chdir('/content/')\n",
        "\n",
        "# Create a new folder\n",
        "os.mkdir('First folder')\n",
        "\n",
        "# Create a new folder with sub directories\n",
        "os.makedirs('Second folder/second level folder')\n",
        "\n",
        "print(os.listdir())"
      ],
      "metadata": {
        "colab": {
          "base_uri": "https://localhost:8080/"
        },
        "id": "odZtTsPwm2uA",
        "outputId": "022c2ca4-edda-4975-fbed-2a75246a4bd9"
      },
      "execution_count": null,
      "outputs": [
        {
          "output_type": "stream",
          "name": "stdout",
          "text": [
            "['.config', 'sample_data', 'First folder', 'Second folder', '.ipynb_checkpoints']\n"
          ]
        }
      ]
    },
    {
      "cell_type": "code",
      "source": [
        "# Remove a folder\n",
        "os.rmdir('First folder')\n",
        "\n",
        "# Remove a folder with sub directories\n",
        "os.removedirs('Second folder/second level folder')\n",
        "\n",
        "print(os.listdir())"
      ],
      "metadata": {
        "colab": {
          "base_uri": "https://localhost:8080/"
        },
        "id": "51Yr9OKVn4Nz",
        "outputId": "c51cbbc5-8aba-4591-96fe-221f7c48d941"
      },
      "execution_count": null,
      "outputs": [
        {
          "output_type": "stream",
          "name": "stdout",
          "text": [
            "['.config', 'sample_data', '.ipynb_checkpoints']\n"
          ]
        }
      ]
    },
    {
      "cell_type": "code",
      "source": [
        "print(os.listdir())\n",
        "#Renaming files\n",
        "os.rename('file.txt', 'test.txt')\n",
        "print(os.listdir())"
      ],
      "metadata": {
        "colab": {
          "base_uri": "https://localhost:8080/"
        },
        "id": "I5NwUIXRpLGh",
        "outputId": "a881e84f-b635-4806-aa44-a1a8e0c468f5"
      },
      "execution_count": null,
      "outputs": [
        {
          "output_type": "stream",
          "name": "stdout",
          "text": [
            "['.config', 'sample_data', 'file.txt', '.ipynb_checkpoints']\n",
            "['.config', 'test.txt', 'sample_data', '.ipynb_checkpoints']\n"
          ]
        }
      ]
    },
    {
      "cell_type": "code",
      "source": [
        "# Print all the information about a file\n",
        "print(os.stat('test.txt'))"
      ],
      "metadata": {
        "colab": {
          "base_uri": "https://localhost:8080/"
        },
        "id": "WxV40MomvnP2",
        "outputId": "fc7bafcf-9846-48ad-d8c7-1248c33b2014"
      },
      "execution_count": null,
      "outputs": [
        {
          "output_type": "stream",
          "name": "stdout",
          "text": [
            "os.stat_result(st_mode=33188, st_ino=6815812, st_dev=50, st_nlink=1, st_uid=0, st_gid=0, st_size=3137, st_atime=1697464190, st_mtime=1697464190, st_ctime=1697464190)\n"
          ]
        }
      ]
    },
    {
      "cell_type": "code",
      "source": [
        "# Display all files and folders from a directory to the last directory in tuple\n",
        "\n",
        "for dirpath, dirnames, filenames in os.walk(os.getcwd()):\n",
        "  print(f'{dirpath} - {dirnames} - {filenames}')\n"
      ],
      "metadata": {
        "colab": {
          "base_uri": "https://localhost:8080/"
        },
        "id": "RNXW5_hJy_sa",
        "outputId": "962131dc-b701-4b58-c52e-9eb41ee34436"
      },
      "execution_count": null,
      "outputs": [
        {
          "output_type": "stream",
          "name": "stdout",
          "text": [
            "/content - ['.config', 'sample_data', '.ipynb_checkpoints'] - ['test.txt']\n",
            "/content/.config - ['logs', 'configurations'] - ['default_configs.db', 'config_sentinel', '.last_opt_in_prompt.yaml', '.last_survey_prompt.yaml', 'active_config', 'gce', '.last_update_check.json']\n",
            "/content/.config/logs - ['2023.10.12'] - []\n",
            "/content/.config/logs/2023.10.12 - [] - ['13.25.36.773088.log', '13.25.35.872929.log', '13.25.22.709674.log', '13.24.23.720152.log', '13.24.55.075099.log', '13.25.07.457568.log']\n",
            "/content/.config/configurations - [] - ['config_default']\n",
            "/content/sample_data - ['.ipynb_checkpoints'] - ['anscombe.json', 'README.md', 'california_housing_train.csv', 'mnist_test.csv', 'california_housing_test.csv', 'mnist_train_small.csv']\n",
            "/content/sample_data/.ipynb_checkpoints - [] - []\n",
            "/content/.ipynb_checkpoints - [] - []\n"
          ]
        }
      ]
    },
    {
      "cell_type": "code",
      "source": [
        "# Accesing environment variables\n",
        "os.environ.get('HOME')"
      ],
      "metadata": {
        "id": "hHI44mlU8p6i",
        "colab": {
          "base_uri": "https://localhost:8080/",
          "height": 35
        },
        "outputId": "c4bb234c-997e-4aeb-af4c-7ee9ee02b0f5"
      },
      "execution_count": null,
      "outputs": [
        {
          "output_type": "execute_result",
          "data": {
            "text/plain": [
              "'/root'"
            ],
            "application/vnd.google.colaboratory.intrinsic+json": {
              "type": "string"
            }
          },
          "metadata": {},
          "execution_count": 32
        }
      ]
    },
    {
      "cell_type": "code",
      "source": [
        "# Working with path\n",
        "# Creating files in a path (home below)\n",
        "os.path.join(os.environ.get('HOME'), 'test.txt')\n",
        "\n",
        "# Get the file name from a path\n",
        "print(os.path.basename('/tmp/test.txt'))\n",
        "\n",
        "# Get the directory name from a path\n",
        "print(os.path.dirname('/tmp/test.txt'))\n",
        "\n",
        "# Split directory and filename\n",
        "print(os.path.split('/tmp/test.txt'))\n",
        "\n",
        "# Check if a path exists\n",
        "print(os.path.exists('/tmp/test.txt'))\n",
        "\n",
        "# Check if a dir\n",
        "print(os.path.isdir('/tmp/test.txt'))\n",
        "\n",
        "# Check if a file\n",
        "print(os.path.isfile('/tmp/test.txt'))\n",
        "\n",
        "# Split filename and extension\n",
        "print(os.path.splitext('/tmp/test.txt'))"
      ],
      "metadata": {
        "id": "s13uvT5SO_Rw",
        "colab": {
          "base_uri": "https://localhost:8080/"
        },
        "outputId": "90340318-ffdd-4edb-cba6-d7c3f73b2670"
      },
      "execution_count": 13,
      "outputs": [
        {
          "output_type": "stream",
          "name": "stdout",
          "text": [
            "test.txt\n",
            "/tmp\n",
            "('/tmp', 'test.txt')\n",
            "False\n",
            "False\n",
            "False\n",
            "('/tmp/test', '.txt')\n"
          ]
        }
      ]
    }
  ]
}